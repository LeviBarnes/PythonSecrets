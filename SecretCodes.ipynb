{
 "metadata": {
  "name": "",
  "signature": "sha256:07008b265b9f79b01f396214efa178c0a1850cc13ae07c38c46dfbfeb7409bbb"
 },
 "nbformat": 3,
 "nbformat_minor": 0,
 "worksheets": [
  {
   "cells": [
    {
     "cell_type": "heading",
     "level": 2,
     "metadata": {},
     "source": [
      "Sending Secret Messages with Python"
     ]
    },
    {
     "cell_type": "markdown",
     "metadata": {},
     "source": [
      "This notebook will teach you how to send secret messages to your friends using a computer language called \"Python.\" Python is used by thousands of programmers around the world to create websites and video games, to do science and math, even this web page is written using Python! "
     ]
    },
    {
     "cell_type": "markdown",
     "metadata": {},
     "source": [
      "Before we learn any Python, we need to learn just a bit about secret codes. One way to make your message secret is using a \"substitution cipher.\" This means that we replace every letter in our message with a different letter. For example, all of the c's in our message might become j's. The message will look like garbled nonsense to anyone who doesn't know which letter has been substituted. By the time you're done with this page, you'll be able to make this message\n",
      "\n",
      "    this is a super secret message\n",
      "\n",
      "Look like this\n",
      "\n",
      "    pkbm bm t mexuu mueuup nummtcu\n",
      "\n",
      "Only someone whos knows the password will be able to turn it back into the original message.\n",
      "\n",
      "The first thing to do is to decide which letter will replace which. We'll create a table like this one:"
     ]
    },
    {
     "cell_type": "markdown",
     "metadata": {},
     "source": [
      "<html><table>\n",
      "<tr><td>Old letter<br></td><td>New letter<br></td>\n",
      "<tr><td>A</td><td>N</td>\n",
      "<tr><td>B</td><td>F</td>\n",
      "<tr><td>C</td><td>R</td>\n",
      "<tr><td>D</td><td>L</td>\n",
      "<tr><td>E</td><td>A</td>\n",
      "<tr><td>F</td><td>T</td>\n",
      "<tr><td>G</td><td>Z</td>\n",
      "<tr><td>H</td><td>B</td>\n",
      "<tr><td>I</td><td>Q</td>\n",
      "<tr><td>...</td><td>...</td>\n",
      "</table></html>\n",
      "\n"
     ]
    },
    {
     "cell_type": "markdown",
     "metadata": {},
     "source": [
      "I've only shown part of the table. We'll see the rest later. \n",
      "\n",
      "The values in your table are not important except for a few rules:\n",
      "1. Every letter in the alphabet must be in the left column. \n",
      "2. Both you and the person you\u2019re sending to must know this table. \n",
      "3. Having each letter appear only once in the right column will make decoding easier."
     ]
    },
    {
     "cell_type": "markdown",
     "metadata": {},
     "source": [
      "To encode using your table is easy. For each letter in your message, instead of writing that letter, find it in the left column of your table, then write down the letter in the same row, but in the right column. For example, if your message is \n",
      "\tABBA HIGH DEF,\n",
      "using the table above, you would encode it as \n",
      "\tNFFN BQZB LAT.\n",
      "Take a minute to make sure I got it right. \n"
     ]
    },
    {
     "cell_type": "heading",
     "level": 3,
     "metadata": {},
     "source": [
      "Python Dictionaries"
     ]
    },
    {
     "cell_type": "markdown",
     "metadata": {},
     "source": [
      "To get Python to do this work for us, the first thing to do is to decide on a table and create a \u201cdictionary\u201d in Python that reflects this. A Python dictionary is a lot like the two-column table we\u2019ve been talking about. We create an empty table like this:"
     ]
    },
    {
     "cell_type": "code",
     "collapsed": false,
     "input": [
      "table={}"
     ],
     "language": "python",
     "metadata": {},
     "outputs": [],
     "prompt_number": 36
    },
    {
     "cell_type": "markdown",
     "metadata": {},
     "source": [
      "If you've never used an iPython Notebook like this before, you can click into any box with a \"In [ ]:\" next to it. These boxes let you edit the Python code inside them, then execute it by pressing Ctrl-Enter. Try it with the box above. Python should respond by putting a 1 inside the square brackets. Now do the same with the box below. This code adds one entry to your table. (This box won't work unless you've executed the box above.)"
     ]
    },
    {
     "cell_type": "code",
     "collapsed": false,
     "input": [
      "table['a'] = 'n'\n",
      "table"
     ],
     "language": "python",
     "metadata": {},
     "outputs": [
      {
       "metadata": {},
       "output_type": "pyout",
       "prompt_number": 37,
       "text": [
        "{'a': 'n'}"
       ]
      }
     ],
     "prompt_number": 37
    },
    {
     "cell_type": "markdown",
     "metadata": {},
     "source": [
      "You can also change the code in any box. You'll learn a lot by playing around, so don't be shy. Make some changes the code in the boxes, then push Ctrl-Enter to see what you changed. You might get an error from Python. That's OK. See if you can figure out how to fix it. \n",
      "\n",
      "Make sure to put the quotation marks around your letters. This tells Python that you mean the letter 'a', not a variable called a.\n",
      "We read from our table like this:"
     ]
    },
    {
     "cell_type": "code",
     "collapsed": false,
     "input": [
      "newletter = table['a']\n",
      "newletter"
     ],
     "language": "python",
     "metadata": {},
     "outputs": [
      {
       "metadata": {},
       "output_type": "pyout",
       "prompt_number": 38,
       "text": [
        "'n'"
       ]
      }
     ],
     "prompt_number": 38
    },
    {
     "cell_type": "markdown",
     "metadata": {},
     "source": [
      "The left hand side of the table are called the \"keys.\" The right hand are called the \"values.\" Let\u2019s add a few rows to our table, then ask Python some questions:"
     ]
    },
    {
     "cell_type": "code",
     "collapsed": false,
     "input": [
      "table['b'] = 'f'\n",
      "table['c'] = 'r'\n",
      "table['b']"
     ],
     "language": "python",
     "metadata": {},
     "outputs": [
      {
       "metadata": {},
       "output_type": "pyout",
       "prompt_number": 39,
       "text": [
        "'f'"
       ]
      }
     ],
     "prompt_number": 39
    },
    {
     "cell_type": "code",
     "collapsed": false,
     "input": [
      "table.keys()"
     ],
     "language": "python",
     "metadata": {},
     "outputs": [
      {
       "metadata": {},
       "output_type": "pyout",
       "prompt_number": 40,
       "text": [
        "['a', 'c', 'b']"
       ]
      }
     ],
     "prompt_number": 40
    },
    {
     "cell_type": "code",
     "collapsed": false,
     "input": [
      "table.values()"
     ],
     "language": "python",
     "metadata": {},
     "outputs": [
      {
       "metadata": {},
       "output_type": "pyout",
       "prompt_number": 41,
       "text": [
        "['n', 'r', 'f']"
       ]
      }
     ],
     "prompt_number": 41
    },
    {
     "cell_type": "code",
     "collapsed": false,
     "input": [
      "table"
     ],
     "language": "python",
     "metadata": {},
     "outputs": [
      {
       "metadata": {},
       "output_type": "pyout",
       "prompt_number": 42,
       "text": [
        "{'a': 'n', 'b': 'f', 'c': 'r'}"
       ]
      }
     ],
     "prompt_number": 42
    },
    {
     "cell_type": "markdown",
     "metadata": {},
     "source": [
      "The colon (:) separates a \"key\" from its \"value.\"  'a':'n' means that all the a's become n's during encoding."
     ]
    },
    {
     "cell_type": "markdown",
     "metadata": {},
     "source": [
      "What if we ask for a table entry that hasn't been set yet?"
     ]
    },
    {
     "cell_type": "code",
     "collapsed": false,
     "input": [
      "table['d']"
     ],
     "language": "python",
     "metadata": {},
     "outputs": [
      {
       "ename": "KeyError",
       "evalue": "'d'",
       "output_type": "pyerr",
       "traceback": [
        "\u001b[1;31m---------------------------------------------------------------------------\u001b[0m\n\u001b[1;31mKeyError\u001b[0m                                  Traceback (most recent call last)",
        "\u001b[1;32m<ipython-input-43-2a6b158229d3>\u001b[0m in \u001b[0;36m<module>\u001b[1;34m()\u001b[0m\n\u001b[1;32m----> 1\u001b[1;33m \u001b[0mtable\u001b[0m\u001b[1;33m[\u001b[0m\u001b[1;34m'd'\u001b[0m\u001b[1;33m]\u001b[0m\u001b[1;33m\u001b[0m\u001b[0m\n\u001b[0m",
        "\u001b[1;31mKeyError\u001b[0m: 'd'"
       ]
      }
     ],
     "prompt_number": 43
    },
    {
     "cell_type": "markdown",
     "metadata": {},
     "source": [
      "Python didn't like that and sent us back a KeyError. To avoid these errors, we can first check to see whether that table entry exists."
     ]
    },
    {
     "cell_type": "code",
     "collapsed": false,
     "input": [
      "'d' in table.keys()"
     ],
     "language": "python",
     "metadata": {},
     "outputs": [
      {
       "metadata": {},
       "output_type": "pyout",
       "prompt_number": 44,
       "text": [
        "False"
       ]
      }
     ],
     "prompt_number": 44
    },
    {
     "cell_type": "markdown",
     "metadata": {},
     "source": [
      "We just asked Python, \"Is d one of the keys in our table?\" Python said, \"No.\"\n",
      "Now, let's create a table entry for 'd'."
     ]
    },
    {
     "cell_type": "code",
     "collapsed": false,
     "input": [
      "table['d'] = 'n'\n",
      "table['d']"
     ],
     "language": "python",
     "metadata": {},
     "outputs": [
      {
       "metadata": {},
       "output_type": "pyout",
       "prompt_number": 45,
       "text": [
        "'n'"
       ]
      }
     ],
     "prompt_number": 45
    },
    {
     "cell_type": "markdown",
     "metadata": {},
     "source": [
      "A key can only appear in the left column one time. If I try to assign one letter on the left column to two different letters on the right, the dictionary will store the last value."
     ]
    },
    {
     "cell_type": "code",
     "collapsed": false,
     "input": [
      "table['d'] = 'l'    \n",
      "table['d']"
     ],
     "language": "python",
     "metadata": {},
     "outputs": [
      {
       "metadata": {},
       "output_type": "pyout",
       "prompt_number": 46,
       "text": [
        "'l'"
       ]
      }
     ],
     "prompt_number": 46
    },
    {
     "cell_type": "markdown",
     "metadata": {},
     "source": [
      "The old table entry for 'd' is lost and replaced by the new value. Note that more than one key can correspond to a single value. When we assigned 'd' to be changed to 'n', both 'a' and 'd' were being translated to 'n'. That\u2019s perfectly OK."
     ]
    },
    {
     "cell_type": "heading",
     "level": 3,
     "metadata": {},
     "source": [
      "Python Lists"
     ]
    },
    {
     "cell_type": "markdown",
     "metadata": {},
     "source": [
      "A python list is like a dictionary where the keys are numbers, specifically integers. We can create a list like this"
     ]
    },
    {
     "cell_type": "code",
     "collapsed": false,
     "input": [
      "myList=['t','h','e','q']"
     ],
     "language": "python",
     "metadata": {},
     "outputs": [],
     "prompt_number": 47
    },
    {
     "cell_type": "markdown",
     "metadata": {},
     "source": [
      "The list works a lot like a dictionary with numbers in the left column. Try this."
     ]
    },
    {
     "cell_type": "code",
     "collapsed": false,
     "input": [
      "myList[2]"
     ],
     "language": "python",
     "metadata": {},
     "outputs": [
      {
       "metadata": {},
       "output_type": "pyout",
       "prompt_number": 48,
       "text": [
        "'e'"
       ]
      }
     ],
     "prompt_number": 48
    },
    {
     "cell_type": "markdown",
     "metadata": {},
     "source": [
      "Wait, but isn't 'e' the third letter in the list? It's important to remember that computers start counting from zero."
     ]
    },
    {
     "cell_type": "code",
     "collapsed": false,
     "input": [
      "myList[0]"
     ],
     "language": "python",
     "metadata": {},
     "outputs": [
      {
       "metadata": {},
       "output_type": "pyout",
       "prompt_number": 49,
       "text": [
        "'t'"
       ]
      }
     ],
     "prompt_number": 49
    },
    {
     "cell_type": "code",
     "collapsed": false,
     "input": [
      "myList[4]"
     ],
     "language": "python",
     "metadata": {},
     "outputs": [
      {
       "ename": "IndexError",
       "evalue": "list index out of range",
       "output_type": "pyerr",
       "traceback": [
        "\u001b[1;31m---------------------------------------------------------------------------\u001b[0m\n\u001b[1;31mIndexError\u001b[0m                                Traceback (most recent call last)",
        "\u001b[1;32m<ipython-input-50-c92a30c0444a>\u001b[0m in \u001b[0;36m<module>\u001b[1;34m()\u001b[0m\n\u001b[1;32m----> 1\u001b[1;33m \u001b[0mmyList\u001b[0m\u001b[1;33m[\u001b[0m\u001b[1;36m4\u001b[0m\u001b[1;33m]\u001b[0m\u001b[1;33m\u001b[0m\u001b[0m\n\u001b[0m",
        "\u001b[1;31mIndexError\u001b[0m: list index out of range"
       ]
      }
     ],
     "prompt_number": 50
    },
    {
     "cell_type": "markdown",
     "metadata": {},
     "source": [
      "What do you think this error means? (Hint: \"index\" is the number inside the square brackets.)"
     ]
    },
    {
     "cell_type": "markdown",
     "metadata": {},
     "source": [
      "The first element in our list is number 0. The last is number 3."
     ]
    },
    {
     "cell_type": "heading",
     "level": 3,
     "metadata": {},
     "source": [
      "Python strings are lists"
     ]
    },
    {
     "cell_type": "markdown",
     "metadata": {},
     "source": [
      "A bunch of text all together in Python is called a \"string.\" Here's a string"
     ]
    },
    {
     "cell_type": "code",
     "collapsed": false,
     "input": [
      "myString = \"the quick brown fox jumped over the lazy dogs\"\n",
      "myString"
     ],
     "language": "python",
     "metadata": {},
     "outputs": [
      {
       "metadata": {},
       "output_type": "pyout",
       "prompt_number": 14,
       "text": [
        "'the quick brown fox jumped over the lazy dogs'"
       ]
      }
     ],
     "prompt_number": 14
    },
    {
     "cell_type": "markdown",
     "metadata": {},
     "source": [
      "Our string acts just like a list"
     ]
    },
    {
     "cell_type": "code",
     "collapsed": false,
     "input": [
      "myString[2]"
     ],
     "language": "python",
     "metadata": {},
     "outputs": [
      {
       "metadata": {},
       "output_type": "pyout",
       "prompt_number": 15,
       "text": [
        "'e'"
       ]
      }
     ],
     "prompt_number": 15
    },
    {
     "cell_type": "markdown",
     "metadata": {},
     "source": [
      "The third letter in our string is 'e'. We ask Python for letter number 2 since Python starts counting from zero. \n",
      "Even the spaces in our string are considered letters."
     ]
    },
    {
     "cell_type": "code",
     "collapsed": false,
     "input": [
      "myString[3]"
     ],
     "language": "python",
     "metadata": {},
     "outputs": [
      {
       "metadata": {},
       "output_type": "pyout",
       "prompt_number": 16,
       "text": [
        "' '"
       ]
      }
     ],
     "prompt_number": 16
    },
    {
     "cell_type": "markdown",
     "metadata": {},
     "source": [
      "The output above just looks like two quote marks, but there's actually a space between them. The 4th \"letter\" in our string is actually a space. "
     ]
    },
    {
     "cell_type": "markdown",
     "metadata": {},
     "source": [
      "Take a minute to write some code yourself involving strings. You can edit the code in the box above and push Ctrl-Enter to execute it. Can you figure out which letter is 'q'? What if you pick a number that's too large, like 100?"
     ]
    },
    {
     "cell_type": "heading",
     "level": 2,
     "metadata": {},
     "source": [
      "Creating a cipher table from a string"
     ]
    },
    {
     "cell_type": "markdown",
     "metadata": {},
     "source": [
      "We can write a loop to create a dictionary from two lists. Let's build the same string as before"
     ]
    },
    {
     "cell_type": "code",
     "collapsed": false,
     "input": [
      "sentence = \"the quick brown fox jumped over the lazy dogs\""
     ],
     "language": "python",
     "metadata": {},
     "outputs": [],
     "prompt_number": 17
    },
    {
     "cell_type": "markdown",
     "metadata": {},
     "source": [
      "Just like before, we can treat it like a list of letters."
     ]
    },
    {
     "cell_type": "code",
     "collapsed": false,
     "input": [
      "sentence[10]"
     ],
     "language": "python",
     "metadata": {},
     "outputs": [
      {
       "metadata": {},
       "output_type": "pyout",
       "prompt_number": 18,
       "text": [
        "'b'"
       ]
      }
     ],
     "prompt_number": 18
    },
    {
     "cell_type": "markdown",
     "metadata": {},
     "source": [
      "Now, let's create another string like this."
     ]
    },
    {
     "cell_type": "code",
     "collapsed": false,
     "input": [
      "alphabet = \"abcdefghijklmnopqrstuvwxyz\""
     ],
     "language": "python",
     "metadata": {},
     "outputs": [],
     "prompt_number": 19
    },
    {
     "cell_type": "markdown",
     "metadata": {},
     "source": [
      "We're going to use these two strings to create a table like this"
     ]
    },
    {
     "cell_type": "markdown",
     "metadata": {},
     "source": [
      "<html><table>\n",
      "<tr><td>Old letter<br></td><td>New letter<br></td>\n",
      "<tr><td>A</td><td>T</td>\n",
      "<tr><td>B</td><td>H</td>\n",
      "<tr><td>C</td><td>E</td>\n",
      "<tr><td>D</td><td>Q</td>\n",
      "<tr><td>E</td><td>U</td>\n",
      "<tr><td>F</td><td>I</td>\n",
      "<tr><td>G</td><td>C</td>\n",
      "<tr><td>H</td><td>K</td>\n",
      "<tr><td>I</td><td>B</td>\n",
      "<tr><td>J</td><td>R</td>\n",
      "<tr><td>K</td><td>O</td>\n",
      "<tr><td>L</td><td>W</td>\n",
      "<tr><td>M</td><td>N</td>\n",
      "<tr><td>N</td><td>F</td>\n",
      "<tr><td>O</td><td>O</td>\n",
      "<tr><td>P</td><td>X</td>\n",
      "<tr><td>Q</td><td>J</td>\n",
      "<tr><td>R</td><td>U</td>\n",
      "<tr><td>S</td><td>M</td>\n",
      "<tr><td>T</td><td>P</td>\n",
      "<tr><td>U</td><td>E</td>\n",
      "<tr><td>V</td><td>D</td>\n",
      "<tr><td>W</td><td>O</td>\n",
      "<tr><td>X</td><td>V</td>\n",
      "<tr><td>Y</td><td>E</td>\n",
      "<tr><td>Z</td><td>R</td>\n",
      "</table></html>"
     ]
    },
    {
     "cell_type": "markdown",
     "metadata": {},
     "source": [
      "To create this list in Python, we could do this:"
     ]
    },
    {
     "cell_type": "code",
     "collapsed": false,
     "input": [
      "table={}\n",
      "table[ alphabet[0]] = sentence[0]\n",
      "table[ alphabet[1]] = sentence[1]\n",
      "table[ alphabet[2]] = sentence[2]\n",
      "table[ alphabet[3]] = sentence[3]\n",
      "table[ alphabet[4]] = sentence[4]\n",
      "#And on and on...\n",
      "table"
     ],
     "language": "python",
     "metadata": {},
     "outputs": [
      {
       "metadata": {},
       "output_type": "pyout",
       "prompt_number": 20,
       "text": [
        "{'a': 't', 'b': 'h', 'c': 'e', 'd': ' ', 'e': 'q'}"
       ]
      }
     ],
     "prompt_number": 20
    },
    {
     "cell_type": "markdown",
     "metadata": {},
     "source": [
      "This requires some explanation. When we write\n",
      "\n",
      "    table[ alphabet[0]] = sentence[0]\n",
      "    \n",
      "Python will look in the square brackets, [], following \"table[\" to see which letter to put in the left hand column. Instead of a letter, Python sees alphabet[0]. To Python, this means the first letter in the string called \"alphabet\", a. So, Python puts 'a' in the left hand column. "
     ]
    },
    {
     "cell_type": "markdown",
     "metadata": {},
     "source": [
      "Next, it looks for what to put in the right column after the equal sign. There, Python sees\n",
      "    sentence[0]\n",
      "which it knows means the first letter in the string \"sentence\" or 't'. So, Python creates a dictionary entry that replaces 'a' with 't'."
     ]
    },
    {
     "cell_type": "markdown",
     "metadata": {},
     "source": [
      "So, Python will act as if we wrote\n",
      "\n",
      "     table['a'] = 't'\n",
      "\n",
      "adding one entry to our translation table."
     ]
    },
    {
     "cell_type": "markdown",
     "metadata": {},
     "source": [
      "The line\n",
      "\n",
      "    table[ alphabet[1]] = sentence[1]\n",
      "\n",
      "creates another new row with the second letter in \"alphabet\" and the second letter in \"sentence.\""
     ]
    },
    {
     "cell_type": "markdown",
     "metadata": {},
     "source": [
      "This is tricky, so try it out a little. What would happen if I wrote"
     ]
    },
    {
     "cell_type": "code",
     "collapsed": false,
     "input": [
      "table[ alphabet[1]] = sentence[0]\n",
      "table"
     ],
     "language": "python",
     "metadata": {},
     "outputs": [
      {
       "metadata": {},
       "output_type": "pyout",
       "prompt_number": 21,
       "text": [
        "{'a': 't', 'b': 't', 'c': 'e', 'd': ' ', 'e': 'q'}"
       ]
      }
     ],
     "prompt_number": 21
    },
    {
     "cell_type": "markdown",
     "metadata": {},
     "source": [
      "What changed? Why? This is another good chance to play around bny writing your own code."
     ]
    },
    {
     "cell_type": "heading",
     "level": 3,
     "metadata": {},
     "source": [
      "Loops in Python"
     ]
    },
    {
     "cell_type": "markdown",
     "metadata": {},
     "source": [
      "Instead of writing 26 lines like this, I'd like to write it just once, then have the computer repeat it 26 times increasing the number each time. For this, we use a \"for loop.\" Try this"
     ]
    },
    {
     "cell_type": "code",
     "collapsed": false,
     "input": [
      "table={}\n",
      "for num in range(26):\n",
      "    table[ alphabet[num]] = sentence[num]\n",
      "table"
     ],
     "language": "python",
     "metadata": {},
     "outputs": [
      {
       "metadata": {},
       "output_type": "pyout",
       "prompt_number": 53,
       "text": [
        "{'a': 't',\n",
        " 'b': 'h',\n",
        " 'c': 'e',\n",
        " 'd': 'q',\n",
        " 'e': 'u',\n",
        " 'f': 'i',\n",
        " 'g': 'c',\n",
        " 'h': 'k',\n",
        " 'i': 'b',\n",
        " 'j': 'r',\n",
        " 'k': 'o',\n",
        " 'l': 'w',\n",
        " 'm': 'n',\n",
        " 'n': 'f',\n",
        " 'o': 'o',\n",
        " 'p': 'x',\n",
        " 'q': 'j',\n",
        " 'r': 'u',\n",
        " 's': 'm',\n",
        " 't': 'p',\n",
        " 'u': 'e',\n",
        " 'v': 'd',\n",
        " 'w': 'o',\n",
        " 'x': 'v',\n",
        " 'y': 'e',\n",
        " 'z': 'r'}"
       ]
      }
     ],
     "prompt_number": 53
    },
    {
     "cell_type": "markdown",
     "metadata": {},
     "source": [
      "Don't worry if this isn't clear yet. We'll take a good look at this. The first line creates an empty dictionary. The next line is the loop\n",
      "\n",
      "    for num in range(26):\n",
      "    \n",
      "In ordinary English, it means, create a list of 26 numbers starting from zero. Then execute this next command one time for each of those numbers. Whereever you see 'num' replace it with one of the numbers.\n",
      "\n",
      "Of course, you don't have to use 'num.' You can use anything you want. You could use your name\n",
      "\n",
      "    for levi in range(26):\n",
      "\n",
      "With this new version, it will replace 'levi' with each of the numbers.\n",
      "\n",
      "As a side note, you *can* use any number you want, but in writing computer programs, it's best to be as clear as you can about what all the parts are doing. You never know when you'll have to read your own program to fix problems or add something new. Also, when you write larger programs, you're usually working with a team of programmers. It might be someone else reading and fixing your code. Make sure your program is clear enough for someone else to read and understand."
     ]
    },
    {
     "cell_type": "markdown",
     "metadata": {},
     "source": [
      "Let's do a simpler loop first"
     ]
    },
    {
     "cell_type": "code",
     "collapsed": false,
     "input": [
      "for name in [\"Bart\", \"Lisa\", \"Maggie\"]:\n",
      "    print \"Hi, \" + name"
     ],
     "language": "python",
     "metadata": {},
     "outputs": [
      {
       "output_type": "stream",
       "stream": "stdout",
       "text": [
        "Hi, Bart\n",
        "Hi, Lisa\n",
        "Hi, Maggie\n"
       ]
      }
     ],
     "prompt_number": 23
    },
    {
     "cell_type": "markdown",
     "metadata": {},
     "source": [
      "Here, we gave Python a list of three names. For each name on the list, Python executes the commands that follow, replacing \"name\" with one of the names in the list. Try it out by editing the loop above. Add your name (maybe it's Homer?). Make a list of your favorite sports teams and make Python cheer for them."
     ]
    },
    {
     "cell_type": "markdown",
     "metadata": {},
     "source": [
      "One tricky rule in Python involves indenting. It's possible to put lots of commands inside one for loop, but Python needs to be able to know which commands are in the loop and which are not. Each line that we want to be part of the loop, we indent, but we don't indent the for statement itself. When Python sees a line that's not indented, it knows you've finished writing the loop. Take a look at this. Change the indenting and see what happens. What if you don't indent the \"I'll stop you\"? What if you *do* indent \"You'll never get away with this\"? Try it!"
     ]
    },
    {
     "cell_type": "code",
     "collapsed": false,
     "input": [
      "for villain in [\"Lex Luthor\", \"The Joker\", \"Magneto\", \"Megamind\"]:\n",
      "    print \"Oh no! It's \" + villain\n",
      "    print \"I'll stop you!\"\n",
      "print \"You'll never get away with this.\""
     ],
     "language": "python",
     "metadata": {},
     "outputs": [
      {
       "output_type": "stream",
       "stream": "stdout",
       "text": [
        "Oh no! It's Lex Luthor\n",
        "I'll stop you!\n",
        "Oh no! It's The Joker\n",
        "I'll stop you!\n",
        "Oh no! It's Magneto\n",
        "I'll stop you!\n",
        "Oh no! It's Megamind\n",
        "I'll stop you!\n",
        "You'll never get away with this.\n"
       ]
      }
     ],
     "prompt_number": 54
    },
    {
     "cell_type": "markdown",
     "metadata": {},
     "source": [
      "Now, back to our loop for creating a code table."
     ]
    },
    {
     "cell_type": "code",
     "collapsed": false,
     "input": [
      "for num in range(26):\n",
      "    table[ alphabet[num]] = sentence[num]\n",
      "table"
     ],
     "language": "python",
     "metadata": {},
     "outputs": [],
     "prompt_number": 55
    },
    {
     "cell_type": "markdown",
     "metadata": {},
     "source": [
      "The \"range\" function just generates a list of numbers beginning with zero."
     ]
    },
    {
     "cell_type": "code",
     "collapsed": false,
     "input": [
      "range(5)"
     ],
     "language": "python",
     "metadata": {},
     "outputs": [
      {
       "metadata": {},
       "output_type": "pyout",
       "prompt_number": 56,
       "text": [
        "[0, 1, 2, 3, 4]"
       ]
      }
     ],
     "prompt_number": 56
    },
    {
     "cell_type": "markdown",
     "metadata": {},
     "source": [
      "So, we're making a list of 26 numbers, then for each number, Python repeats the command\n",
      "\n",
      "    table[ alphabet[num] ] = sentence[num]\n",
      "\n",
      "but it replaces 'num' with each of the numbers in the list. So it's exactly the same as writing\n",
      "\n",
      "    table[ alphabet[0] ] = sentence[0]\n",
      "    table[ alphabet[1] ] = sentence[1]\n",
      "    table[ alphabet[2] ] = sentence[2]\n",
      "    table[ alphabet[3] ] = sentence[3]\n",
      "    table[ alphabet[4] ] = sentence[4]\n",
      "    table[ alphabet[5] ] = sentence[5]\n",
      "    \n",
      "except we only had to write those two lines. Much easier!"
     ]
    },
    {
     "cell_type": "markdown",
     "metadata": {},
     "source": [
      "We can combine everything we've done so far into one script. Read it through carefully and see if you can describe what each line does."
     ]
    },
    {
     "cell_type": "code",
     "collapsed": false,
     "input": [
      "table = {}\n",
      "alphabet = \"abcdefghijklmnopqrstuvwxyz\"\n",
      "sentence = \"thequickbrownfoxjumpedoverthelazydogs\"\n",
      "for num in range(26):\n",
      "    table[ alphabet[num]] = sentence[num]\n",
      "table"
     ],
     "language": "python",
     "metadata": {},
     "outputs": [
      {
       "metadata": {},
       "output_type": "pyout",
       "prompt_number": 58,
       "text": [
        "{'a': 't',\n",
        " 'b': 'h',\n",
        " 'c': 'e',\n",
        " 'd': 'q',\n",
        " 'e': 'u',\n",
        " 'f': 'i',\n",
        " 'g': 'c',\n",
        " 'h': 'k',\n",
        " 'i': 'b',\n",
        " 'j': 'r',\n",
        " 'k': 'o',\n",
        " 'l': 'w',\n",
        " 'm': 'n',\n",
        " 'n': 'f',\n",
        " 'o': 'o',\n",
        " 'p': 'x',\n",
        " 'q': 'j',\n",
        " 'r': 'u',\n",
        " 's': 'm',\n",
        " 't': 'p',\n",
        " 'u': 'e',\n",
        " 'v': 'd',\n",
        " 'w': 'o',\n",
        " 'x': 'v',\n",
        " 'y': 'e',\n",
        " 'z': 'r'}"
       ]
      }
     ],
     "prompt_number": 58
    },
    {
     "cell_type": "heading",
     "level": 3,
     "metadata": {},
     "source": [
      "Using our table to encode"
     ]
    },
    {
     "cell_type": "markdown",
     "metadata": {},
     "source": [
      "We're almost ready to encode our message using our table. Start with this for loop. Before you hit Ctrl-Enter, see if you can predict how Python will respond. Then run it and see if you were right."
     ]
    },
    {
     "cell_type": "code",
     "collapsed": false,
     "input": [
      "for letter in \"this is a super secret message\":\n",
      "    print letter"
     ],
     "language": "python",
     "metadata": {},
     "outputs": [
      {
       "output_type": "stream",
       "stream": "stdout",
       "text": [
        "t\n",
        "h\n",
        "i\n",
        "s\n",
        " \n",
        "i\n",
        "s\n",
        " \n",
        "a\n",
        " \n",
        "s\n",
        "u\n",
        "p\n",
        "e\n",
        "r\n",
        " \n",
        "s\n",
        "e\n",
        "c\n",
        "r\n",
        "e\n",
        "t\n",
        " \n",
        "m\n",
        "e\n",
        "s\n",
        "s\n",
        "a\n",
        "g\n",
        "e\n"
       ]
      }
     ],
     "prompt_number": 59
    },
    {
     "cell_type": "markdown",
     "metadata": {},
     "source": [
      "That's not very secret yet. This time, instead of printing our each letter of our message, let's look in the table, swap the letter, then print it out. Do the same as before with this code. Can you predict what Python will do?"
     ]
    },
    {
     "cell_type": "code",
     "collapsed": false,
     "input": [
      "for letter in \"this is a super secret message\":\n",
      "    print table[letter]"
     ],
     "language": "python",
     "metadata": {},
     "outputs": [
      {
       "output_type": "stream",
       "stream": "stdout",
       "text": [
        "p\n",
        "k\n",
        "b\n",
        "m\n"
       ]
      },
      {
       "ename": "KeyError",
       "evalue": "' '",
       "output_type": "pyerr",
       "traceback": [
        "\u001b[1;31m---------------------------------------------------------------------------\u001b[0m\n\u001b[1;31mKeyError\u001b[0m                                  Traceback (most recent call last)",
        "\u001b[1;32m<ipython-input-31-828bdec96715>\u001b[0m in \u001b[0;36m<module>\u001b[1;34m()\u001b[0m\n\u001b[0;32m      1\u001b[0m \u001b[1;32mfor\u001b[0m \u001b[0mletter\u001b[0m \u001b[1;32min\u001b[0m \u001b[1;34m\"this is a super secret message\"\u001b[0m\u001b[1;33m:\u001b[0m\u001b[1;33m\u001b[0m\u001b[0m\n\u001b[1;32m----> 2\u001b[1;33m     \u001b[1;32mprint\u001b[0m \u001b[0mtable\u001b[0m\u001b[1;33m[\u001b[0m\u001b[0mletter\u001b[0m\u001b[1;33m]\u001b[0m\u001b[1;33m\u001b[0m\u001b[0m\n\u001b[0m",
        "\u001b[1;31mKeyError\u001b[0m: ' '"
       ]
      }
     ],
     "prompt_number": 31
    },
    {
     "cell_type": "markdown",
     "metadata": {},
     "source": [
      "Oops! It seemed to be doing fine, but we crashed on the 5th letter. We'll need to do some \"debugging.\" Try modifying your loop like this."
     ]
    },
    {
     "cell_type": "code",
     "collapsed": false,
     "input": [
      "for letter in \"this is a super secret message\":\n",
      "    print \"old: \" + letter\n",
      "    print \"new: \" + table[letter]"
     ],
     "language": "python",
     "metadata": {},
     "outputs": [
      {
       "output_type": "stream",
       "stream": "stdout",
       "text": [
        "old: t\n",
        "new: p\n",
        "old: h\n",
        "new: k\n",
        "old: i\n",
        "new: b\n",
        "old: s\n",
        "new: m\n",
        "old:  \n"
       ]
      },
      {
       "ename": "KeyError",
       "evalue": "' '",
       "output_type": "pyerr",
       "traceback": [
        "\u001b[1;31m---------------------------------------------------------------------------\u001b[0m\n\u001b[1;31mKeyError\u001b[0m                                  Traceback (most recent call last)",
        "\u001b[1;32m<ipython-input-32-3d305fdbc954>\u001b[0m in \u001b[0;36m<module>\u001b[1;34m()\u001b[0m\n\u001b[0;32m      1\u001b[0m \u001b[1;32mfor\u001b[0m \u001b[0mletter\u001b[0m \u001b[1;32min\u001b[0m \u001b[1;34m\"this is a super secret message\"\u001b[0m\u001b[1;33m:\u001b[0m\u001b[1;33m\u001b[0m\u001b[0m\n\u001b[0;32m      2\u001b[0m     \u001b[1;32mprint\u001b[0m \u001b[1;34m\"old: \"\u001b[0m \u001b[1;33m+\u001b[0m \u001b[0mletter\u001b[0m\u001b[1;33m\u001b[0m\u001b[0m\n\u001b[1;32m----> 3\u001b[1;33m     \u001b[1;32mprint\u001b[0m \u001b[1;34m\"new: \"\u001b[0m \u001b[1;33m+\u001b[0m \u001b[0mtable\u001b[0m\u001b[1;33m[\u001b[0m\u001b[0mletter\u001b[0m\u001b[1;33m]\u001b[0m\u001b[1;33m\u001b[0m\u001b[0m\n\u001b[0m",
        "\u001b[1;31mKeyError\u001b[0m: ' '"
       ]
      }
     ],
     "prompt_number": 32
    },
    {
     "cell_type": "markdown",
     "metadata": {},
     "source": [
      "It's the space! Python is complaining because we asked for the table entry with a space, ' ', in the left column. But there is no such entry. There are several ways to solve this. What would you do? Take a minute and try it."
     ]
    },
    {
     "cell_type": "markdown",
     "metadata": {},
     "source": [
      "One way to solve this is just to add an entry for ' '."
     ]
    },
    {
     "cell_type": "code",
     "collapsed": false,
     "input": [
      "table[' '] = ' '"
     ],
     "language": "python",
     "metadata": {},
     "outputs": [],
     "prompt_number": 33
    },
    {
     "cell_type": "markdown",
     "metadata": {},
     "source": [
      "Now, there *is* an entry for ' '. It just gets replaced by ' ' again. Now our original program works."
     ]
    },
    {
     "cell_type": "code",
     "collapsed": false,
     "input": [
      "for letter in \"this is a super secret message\":\n",
      "    print table[letter]"
     ],
     "language": "python",
     "metadata": {},
     "outputs": [
      {
       "output_type": "stream",
       "stream": "stdout",
       "text": [
        "p\n",
        "k\n",
        "b\n",
        "m\n",
        " \n",
        "b\n",
        "m\n",
        " \n",
        "t\n",
        " \n",
        "m\n",
        "e\n",
        "x\n",
        "u\n",
        "u\n",
        " \n",
        "m\n",
        "u\n",
        "e\n",
        "u\n",
        "u\n",
        "p\n",
        " \n",
        "n\n",
        "u\n",
        "m\n",
        "m\n",
        "t\n",
        "c\n",
        "u\n"
       ]
      }
     ],
     "prompt_number": 34
    },
    {
     "cell_type": "markdown",
     "metadata": {},
     "source": [
      "We did it! This is just what we'd expect if we encoded this message by hand."
     ]
    },
    {
     "cell_type": "markdown",
     "metadata": {},
     "source": [
      "We can do a few things to improve it. First, we can create a new string rather than printing our encoded message with one letter on each line. We'll first create a string that has no letters in it. As we encode each letter, we'll add it to the string. Then we'll print it at the end."
     ]
    },
    {
     "cell_type": "code",
     "collapsed": false,
     "input": [
      "coded_message = \"\"\n",
      "for letter in \"this is a super secret message\":\n",
      "    coded_message = coded_message + table[letter]\n",
      "print coded_message"
     ],
     "language": "python",
     "metadata": {},
     "outputs": [
      {
       "output_type": "stream",
       "stream": "stdout",
       "text": [
        "pkbm bm t mexuu mueuup nummtcu\n"
       ]
      }
     ],
     "prompt_number": 35
    },
    {
     "cell_type": "markdown",
     "metadata": {},
     "source": [
      "Let's look closer at this one, too. At the beginning, \n",
      "    coded_message\n",
      " had no letters at all. But at each step of the loop, instead of printing \n",
      "    table[letter]\n",
      " we add it to the end of\n",
      "    coded_message\n",
      " by writing \n",
      "\n",
      "    coded_message = coded_message + table[letter]\n",
      "    \n",
      "To Python, the equal sign means making a change. Whatever is to the left of the = is the thing we're replacing. To programmers, this 'thing' is called a 'variable'. A variable is a name that represents something else (a number, a word, a dictionary) in your program. In this case, Python knows we want to put something new into coded_message. And what is that something? It's the original coded_message plus table[letter]."
     ]
    },
    {
     "cell_type": "markdown",
     "metadata": {},
     "source": [
      "We can put this all together to have a single program that creates our table and encrypts our message"
     ]
    },
    {
     "cell_type": "code",
     "collapsed": false,
     "input": [
      "table = {}\n",
      "alphabet = \"abcdefghijklmnopqrstuvwxyz\"\n",
      "sentence = \"thequickbrownfoxjumpedoverthelazydogs\"\n",
      "for num in range(26):\n",
      "    table[ alphabet[num]] = sentence[num]\n",
      "print table\n",
      "table[' '] = ' '\n",
      "coded_message = \"\"\n",
      "for letter in \"this is a super secret message\":\n",
      "    coded_message = coded_message + table[letter]\n",
      "print coded_message"
     ],
     "language": "python",
     "metadata": {},
     "outputs": []
    },
    {
     "cell_type": "markdown",
     "metadata": {},
     "source": [
      "This is pretty slick. All we have to do is replace \"this is a super secret message\" with our own and Python does the rest of the work. Now, it's time to play around. Change the script above to encrypt a message of your own. Or use your own sentence. What if your sentence is all x's (\"xxxxxxxxxxxxx\")? \n",
      "Try some of these:\n",
      "- Try encoding \"abcdefghijklmnopqrstuvwxyz\" as your secret message? Where did the \"lazy dogs\" go?\n",
      "- Encode your message twice to make it harder to crack. You can do this by putting your encoded output in as your secret message, but there's an easier way. What if you replace the line\n",
      "\n",
      "        coded_message = coded_message + table[letter]\n",
      "   \n",
      "with\n",
      "\n",
      "         coded_message = coded_message + table[table[letter]]\n",
      "\n",
      "What do you expect it to do? See if you can predict the result for a short message like your name.\n",
      "- Can you decode your message? What happens if your switch the alphabet and the sentence? Why?\n",
      "\n",
      "Here's another copy of the same code so you'll still have a clean copy to refer to as you play around."
     ]
    },
    {
     "cell_type": "code",
     "collapsed": false,
     "input": [
      "table = {}\n",
      "alphabet = \"abcdefghijklmnopqrstuvwxyz\"\n",
      "sentence = \"thequickbrownfoxjumpedoverthelazydogs\"\n",
      "for num in range(26):\n",
      "    table[ alphabet[num]] = sentence[num]\n",
      "print table\n",
      "table[' '] = ' '\n",
      "coded_message = \"\"\n",
      "for letter in \"this is a super secret message\":\n",
      "    coded_message = coded_message + table[letter]\n",
      "print coded_message"
     ],
     "language": "python",
     "metadata": {},
     "outputs": []
    },
    {
     "cell_type": "heading",
     "level": 3,
     "metadata": {},
     "source": [
      "User Input"
     ]
    },
    {
     "cell_type": "markdown",
     "metadata": {},
     "source": [
      "It's a lot of work to modify your program for every new message you want to encode. Let's give the message another name like \"uncoded_message\""
     ]
    },
    {
     "cell_type": "code",
     "collapsed": false,
     "input": [
      "coded_message = \"\"\n",
      "for letter in uncoded_message:\n",
      "    coded_message = coded_message + table[letter]\n",
      "print coded_message"
     ],
     "language": "python",
     "metadata": {},
     "outputs": [
      {
       "ename": "NameError",
       "evalue": "name 'uncoded_message' is not defined",
       "output_type": "pyerr",
       "traceback": [
        "\u001b[1;31m---------------------------------------------------------------------------\u001b[0m\n\u001b[1;31mNameError\u001b[0m                                 Traceback (most recent call last)",
        "\u001b[1;32m<ipython-input-60-076e12badf5a>\u001b[0m in \u001b[0;36m<module>\u001b[1;34m()\u001b[0m\n\u001b[0;32m      1\u001b[0m \u001b[0mcoded_message\u001b[0m \u001b[1;33m=\u001b[0m \u001b[1;34m\"\"\u001b[0m\u001b[1;33m\u001b[0m\u001b[0m\n\u001b[1;32m----> 2\u001b[1;33m \u001b[1;32mfor\u001b[0m \u001b[0mletter\u001b[0m \u001b[1;32min\u001b[0m \u001b[0muncoded_message\u001b[0m\u001b[1;33m:\u001b[0m\u001b[1;33m\u001b[0m\u001b[0m\n\u001b[0m\u001b[0;32m      3\u001b[0m     \u001b[0mcoded_message\u001b[0m \u001b[1;33m=\u001b[0m \u001b[0mcoded_message\u001b[0m \u001b[1;33m+\u001b[0m \u001b[0mtable\u001b[0m\u001b[1;33m[\u001b[0m\u001b[0mletter\u001b[0m\u001b[1;33m]\u001b[0m\u001b[1;33m\u001b[0m\u001b[0m\n\u001b[0;32m      4\u001b[0m \u001b[1;32mprint\u001b[0m \u001b[0mcoded_message\u001b[0m\u001b[1;33m\u001b[0m\u001b[0m\n",
        "\u001b[1;31mNameError\u001b[0m: name 'uncoded_message' is not defined"
       ]
      }
     ],
     "prompt_number": 60
    },
    {
     "cell_type": "markdown",
     "metadata": {},
     "source": [
      "Uh-oh! Can you find and fix the problem above?"
     ]
    },
    {
     "cell_type": "markdown",
     "metadata": {},
     "source": [
      "We need to assign uncoded_message to be something. We can add a line like this:\n",
      "\n",
      "    uncoded_message = \"this is a super secret message\"\n",
      "    \n",
      "Add it to the program above and see how it works."
     ]
    },
    {
     "cell_type": "markdown",
     "metadata": {},
     "source": [
      "Instead of having the secret message in the program, there is a way to ask the user to provide the message. The command for this is \"raw_input.\" Try this."
     ]
    },
    {
     "cell_type": "code",
     "collapsed": false,
     "input": [
      "name = raw_input(\"What is your name? \")\n",
      "print \"Well, hello, \" + name"
     ],
     "language": "python",
     "metadata": {},
     "outputs": []
    },
    {
     "cell_type": "markdown",
     "metadata": {},
     "source": [
      "Let use the same thing for getting a secret message. Modify the code below to use raw_input to create uncoded_message."
     ]
    },
    {
     "cell_type": "code",
     "collapsed": false,
     "input": [
      "coded_message = \"\"\n",
      "for letter in uncoded_message:\n",
      "    coded_message = coded_message + table[letter]\n",
      "print coded_message"
     ],
     "language": "python",
     "metadata": {},
     "outputs": []
    },
    {
     "cell_type": "markdown",
     "metadata": {},
     "source": [
      "Now, let's add this to our main program."
     ]
    },
    {
     "cell_type": "code",
     "collapsed": false,
     "input": [
      "#First, create our substitution table\n",
      "table = {}\n",
      "alphabet = \"abcdefghijklmnopqrstuvwxyz\"\n",
      "sentence = \"thequickbrownfoxjumpedoverthelazydogs\"\n",
      "for num in range(26):\n",
      "    table[ alphabet[num]] = sentence[num]\n",
      "table[' '] = ' '\n",
      "\n",
      "#Get a message from the user\n",
      "uncoded_message = raw_input(\"Type your message here, then press enter: \")\n",
      "\n",
      "#Encode and print the message\n",
      "coded_message = \"\"\n",
      "for letter in uncoded_message:\n",
      "    coded_message = coded_message + table[letter]\n",
      "print coded_message"
     ],
     "language": "python",
     "metadata": {},
     "outputs": []
    },
    {
     "cell_type": "markdown",
     "metadata": {},
     "source": [
      "In the above code, we made a few other changes. Can you see them? We added some lines beginning with #. When we begin a line with #, we're telling Python that the line is just for other humans to read and Python ignores it. So, we can put whatever we want there and it won't affect our program. It's a good idea to put comments in your program so someone else knows what you're doing."
     ]
    },
    {
     "cell_type": "heading",
     "level": 2,
     "metadata": {},
     "source": [
      "Decoding your message"
     ]
    },
    {
     "cell_type": "markdown",
     "metadata": {},
     "source": [
      "To decode a message encoded with a substitution cipher, we switch the columns of the table. If during encoding, we replaced all the a's with t's, then to decode we should change the t's back into a's. But our table generated with the \"quick brown fox\" sentence creates a problem. Here it is below."
     ]
    },
    {
     "cell_type": "markdown",
     "metadata": {},
     "source": [
      "<html><table>\n",
      "<tr><td>Old letter<br></td><td>New letter<br></td><td><br></td><td>Old letter<br></td><td>New letter</td>\n",
      "<tr><td>A</td><td>T</td><td></td><td>N</td><td>F</td>\n",
      "<tr><td>B</td><td>H</td><td></td><td>O</td><td>O</td>\n",
      "<tr><td>C</td><td>E</td><td></td><td>P</td><td>X</td>\n",
      "<tr><td>D</td><td>Q</td><td></td><td>Q</td><td>J</td>\n",
      "<tr><td>E</td><td>U</td><td></td><td>R</td><td>U</td>\n",
      "<tr><td>F</td><td>I</td><td></td><td>S</td><td>M</td>\n",
      "<tr><td>G</td><td>C</td><td></td><td>T</td><td>P</td>\n",
      "<tr><td>H</td><td>K</td><td></td><td>U</td><td>E</td>\n",
      "<tr><td>I</td><td>B</td><td></td><td>V</td><td>D</td>\n",
      "<tr><td>J</td><td>R</td><td></td><td>W</td><td>O</td>\n",
      "<tr><td>K</td><td>O</td><td></td><td>X</td><td>V</td>\n",
      "<tr><td>L</td><td>W</td><td></td><td>Y</td><td>E</td>\n",
      "<tr><td>M</td><td>N</td><td></td><td>Z</td><td>R</td>\n",
      "</table></html>"
     ]
    },
    {
     "cell_type": "markdown",
     "metadata": {},
     "source": [
      "In this table, 'c', 'u' and 'y' are all being changed into 'e'. So, when my encoded message contains an 'e', how will I know whether if began as a c, u or y?"
     ]
    },
    {
     "cell_type": "markdown",
     "metadata": {},
     "source": [
      "We can solve this by making sure each letter appears only once in 'sentence.' We could, for example, assign sentence to be 'thequickbrownfxjmpdvlazygs'. This is easy to do and gives a well-behaved table, but with just a little thought, we can get Python to remove the duplicate letters for us."
     ]
    },
    {
     "cell_type": "heading",
     "level": 3,
     "metadata": {},
     "source": [
      "'if' statements"
     ]
    },
    {
     "cell_type": "markdown",
     "metadata": {},
     "source": [
      "An 'if' statement will do the trick here. If statements allow us to provide two sets of instructions and letting Python decide which set to run based on a test that we determine. In our program, we're going to tell Python to consider each letter of our sentence individually. If the letter is not already part of our table, then use it. If not, ignore it. But let's start with an easier one first."
     ]
    },
    {
     "cell_type": "code",
     "collapsed": false,
     "input": [
      "name = \"Luke\"\n",
      "if name is \"Luke\":\n",
      "    print \"May the force be with you, \" + name"
     ],
     "language": "python",
     "metadata": {},
     "outputs": []
    },
    {
     "cell_type": "markdown",
     "metadata": {},
     "source": [
      "That looks easy enough. "
     ]
    },
    {
     "cell_type": "code",
     "collapsed": false,
     "input": [
      "name = \"Anakin\"\n",
      "if name is \"Luke\":\n",
      "    print \"May the force be with you, \" + name"
     ],
     "language": "python",
     "metadata": {},
     "outputs": []
    },
    {
     "cell_type": "markdown",
     "metadata": {},
     "source": [
      "Aha. No message that time. Notice that the indenting rules are the same for \"if\" statements as for \"for\" statements. As long as you indent, Python will treat each new statement as part of the \"if\" clause and only execute it if the \"if\" condition is true. What if I'm not Luke?\n",
      "\n",
      "Next, let's let the user decide her own name."
     ]
    },
    {
     "cell_type": "code",
     "collapsed": false,
     "input": [
      "name = raw_input(\"What is your name? \")\n",
      "if name == \"Luke\":\n",
      "    print \"May the force be with you, \" + name"
     ],
     "language": "python",
     "metadata": {},
     "outputs": []
    },
    {
     "cell_type": "markdown",
     "metadata": {},
     "source": [
      "You should get a message only if you tell Python your name is Luke. There's one new idea here. I used \"==\" instead of \"is\" here. In Python, these two mean almost the same thing. Usually you can get away with using either, but it's a good idea to always use == when comparing two strings. This is particularly true when one string is returned by raw_input.\n",
      "\n",
      "We could do this test for a list of names. Can you modify the code above to repeat this for a list of names, say \n",
      "\n",
      "    [\"Leia\", \"Luke\", \"Anakin\"]? \n",
      "    \n",
      "It's a little bit tricky. If Python gives you an error message, be sure to read it. It often gives you a clue about how to fix the problem. If you give up, scroll down to see my answer.\n",
      "<br><br><br><br><br><br><br><br><br><br><br><br><br><br><br><br><br><br>"
     ]
    },
    {
     "cell_type": "code",
     "collapsed": false,
     "input": [
      "for name in [\"Luke\", \"Leia\", \"Anakin\"]:\n",
      "    if name is \"Luke\":\n",
      "        print \"May the force be with you, \" + name"
     ],
     "language": "python",
     "metadata": {},
     "outputs": []
    },
    {
     "cell_type": "markdown",
     "metadata": {},
     "source": [
      "Poor Leia. It's a shame to leave her out. (Spoiler alert, she's Luke's sister). We can include her two in one of two ways. Python understands the word \"or\", so we can give Python two names."
     ]
    },
    {
     "cell_type": "code",
     "collapsed": false,
     "input": [
      "for name in [\"Luke\", \"Leia\", \"Anakin\"]:\n",
      "    if name is \"Luke\" or name is \"Leia\":\n",
      "        print \"May the force be with you, \" + name"
     ],
     "language": "python",
     "metadata": {},
     "outputs": []
    },
    {
     "cell_type": "markdown",
     "metadata": {},
     "source": [
      "The other way is to explicitly leave Anakin out. Python also understands \"not\", but in a funny way. Watch."
     ]
    },
    {
     "cell_type": "code",
     "collapsed": false,
     "input": [
      "for name in [\"Luke\", \"Leia\", \"Anakin\"]:\n",
      "    if not name is \"Anakin\":\n",
      "        print \"May the force be with you, \" + name"
     ],
     "language": "python",
     "metadata": {},
     "outputs": []
    },
    {
     "cell_type": "markdown",
     "metadata": {},
     "source": [
      "Python first evaluates\n",
      "\n",
      "    name is \"Anakin\"\n",
      "    \n",
      "then the \"not\" tells Python to reverse that decision and execute the code only if the name is *not* Anakin."
     ]
    },
    {
     "cell_type": "heading",
     "level": 3,
     "metadata": {},
     "source": [
      "Removing our duplicates with \"if\""
     ]
    },
    {
     "cell_type": "markdown",
     "metadata": {},
     "source": [
      "Now, let's use an if loop to remove the duplicates from our sentence. It looks a lot like our greeting loop above."
     ]
    },
    {
     "cell_type": "code",
     "collapsed": false,
     "input": [
      "sentence = \"the quick brown fox jumped over the lazy dogs\"\n",
      "passphrase = \"\"\n",
      "for letter in sentence:\n",
      "    if letter not in passphrase:\n",
      "        passphrase = passphrase + letter\n",
      "print passphrase"
     ],
     "language": "python",
     "metadata": {},
     "outputs": []
    },
    {
     "cell_type": "markdown",
     "metadata": {},
     "source": [
      "That looks almost right. It would be perfect if not for that lousy space. To get rid of that, we can use \"and\" to test two different things. Try this."
     ]
    },
    {
     "cell_type": "code",
     "collapsed": false,
     "input": [
      "sentence = \"the quick brown fox jumped over the lazy dogs\"\n",
      "passphrase = \"\"\n",
      "for letter in sentence:\n",
      "    if letter not in passphrase and letter is not ' ':\n",
      "        passphrase = passphrase + letter\n",
      "print passphrase"
     ],
     "language": "python",
     "metadata": {},
     "outputs": []
    },
    {
     "cell_type": "markdown",
     "metadata": {},
     "source": [
      "Perfect. Let's incorporate this into our code. In the code below, I've left a trick bug. We seem to be getting the very same output. Try using \"cuy\" as your message. Why are c and y both still being changed to 'e'? To get really confused, try making your message \"jdatddr\". What's going on there? You might want to add some \"print\" statements to help you see what's going on."
     ]
    },
    {
     "cell_type": "code",
     "collapsed": false,
     "input": [
      "#First, create our substitution table\n",
      "table = {}\n",
      "alphabet = \"abcdefghijklmnopqrstuvwxyz\"\n",
      "\n",
      "sentence = \"the quick brown fox jumped over the lazy dogs\"\n",
      "passphrase=\"\"\n",
      "for letter in sentence:\n",
      "    if letter not in passphrase and letter is not ' ':\n",
      "        passphrase = passphrase + letter\n",
      "print passphrase\n",
      "\n",
      "for num in range(26):\n",
      "    table[ alphabet[num]] = passphrase[num]\n",
      "table[' '] = ' '\n",
      "\n",
      "#Get a message from the user\n",
      "uncoded_message = raw_input(\"Type your message here, then press enter: \")\n",
      "\n",
      "#Encode and print the message\n",
      "coded_message = \"\"\n",
      "for letter in uncoded_message:\n",
      "    coded_message = coded_message + table[letter]\n",
      "print coded_message"
     ],
     "language": "python",
     "metadata": {},
     "outputs": []
    },
    {
     "cell_type": "markdown",
     "metadata": {},
     "source": [
      "If you couldn't find the problem above (which is OK. It's a hard bug to see). I'll tell you that we've gone to the trouble of creating a \"passphrase\" with no spaces or duplicates, but then we still used \"sentence\" to create our table. In place of the line\n",
      "\n",
      "    table[ alphabet[num]] = sentence[num]\n",
      "\n",
      "write\n",
      "\n",
      "    table[ alphabet[num]] = passphrase[num]\n",
      "\n",
      "Try that and see if you get better answers"
     ]
    },
    {
     "cell_type": "heading",
     "level": 3,
     "metadata": {},
     "source": [
      "Decoding"
     ]
    },
    {
     "cell_type": "markdown",
     "metadata": {},
     "source": [
      "At last, we're ready to do some decoding. Suppose your friend encoded a message with the program above and sent it to you. The message you got was \"nuuv nu bf vku jtpo tv dby vkbpvg\". How would you decode it?\n",
      "\n",
      "Well, if we can build the same table, we can use it in reverse. In our new table m's become n's during encoding. So, during decoding, I change all the n's back to n's. All the e's became u's so I change them all back to e's. Already I know that the first two words of the message are \"mee- me\". Here's the full table if you want to do decode it yourself. If not, just skip past this and see how to do get Python to do it."
     ]
    },
    {
     "cell_type": "markdown",
     "metadata": {},
     "source": [
      "<html><table>\n",
      "<tr><td>Old letter<br></td><td>New letter<br></td><td><br></td><td>Old letter<br></td><td>New letter</td>\n",
      "<tr><td>A</td><td>T</td><td></td><td>N</td><td>F</td>\n",
      "<tr><td>B</td><td>H</td><td></td><td>O</td><td>X</td>\n",
      "<tr><td>C</td><td>E</td><td></td><td>P</td><td>J</td>\n",
      "<tr><td>D</td><td>Q</td><td></td><td>Q</td><td>M</td>\n",
      "<tr><td>E</td><td>U</td><td></td><td>R</td><td>P</td>\n",
      "<tr><td>F</td><td>I</td><td></td><td>S</td><td>D</td>\n",
      "<tr><td>G</td><td>C</td><td></td><td>T</td><td>V</td>\n",
      "<tr><td>H</td><td>K</td><td></td><td>U</td><td>L</td>\n",
      "<tr><td>I</td><td>B</td><td></td><td>V</td><td>A</td>\n",
      "<tr><td>J</td><td>R</td><td></td><td>W</td><td>Z</td>\n",
      "<tr><td>K</td><td>O</td><td></td><td>X</td><td>Y</td>\n",
      "<tr><td>L</td><td>W</td><td></td><td>Y</td><td>G</td>\n",
      "<tr><td>M</td><td>N</td><td></td><td>Z</td><td>S</td>\n",
      "</table></html>"
     ]
    },
    {
     "cell_type": "markdown",
     "metadata": {},
     "source": [
      "The hardest part of decoding was having to search through the \"New letter\" column for each letter. Other than that, it was exactly like encoding except that we're finding letters in the \"New letter\" column, then replacing them with the letter in the \"Old letter\" column. So, we can use python to decode by just switching the columns. In the language of Python dictionaries, we need to switch the \"keys\" and \"values.\" So, instead of building our table like this\n",
      "\n",
      "    for num in range(26):\n",
      "        table[ alphabet[num]] = passphrase[num]\n",
      "\n",
      "we swap \"alphabet\" and \"passphrase\"\n",
      "\n",
      "    for num in range(26:\n",
      "        table[ passphrase[num]] = alphabet[num]\n",
      "  \n",
      "It's just that easy and we've got a decoder. Make the change yourself here and check it with the message above (\"nuuv nu bf vku jtpo tv dby vkbpvg\"). What's the decoded message?"
     ]
    },
    {
     "cell_type": "code",
     "collapsed": false,
     "input": [
      "#First, create our substitution table\n",
      "table = {}\n",
      "alphabet = \"abcdefghijklmnopqrstuvwxyz\"\n",
      "\n",
      "sentence = \"the quick brown fox jumped over the lazy dogs\"\n",
      "passphrase=\"\"\n",
      "for letter in sentence:\n",
      "    if letter not in passphrase and letter is not ' ':\n",
      "        passphrase = passphrase + letter\n",
      "print passphrase\n",
      "\n",
      "for num in range(26):\n",
      "    table[ alphabet[num]] = passphrase[num]\n",
      "table[' '] = ' '\n",
      "\n",
      "#Get a message from the user\n",
      "uncoded_message = raw_input(\"Type your message here, then press enter: \")\n",
      "\n",
      "#Encode and print the message\n",
      "coded_message = \"\"\n",
      "for letter in uncoded_message:\n",
      "    coded_message = coded_message + table[letter]\n",
      "print coded_message"
     ],
     "language": "python",
     "metadata": {},
     "outputs": []
    },
    {
     "cell_type": "heading",
     "level": 2,
     "metadata": {},
     "source": [
      "Finishing up"
     ]
    },
    {
     "cell_type": "markdown",
     "metadata": {},
     "source": [
      "As our final task, we're going to give the user the option to encode or decode with the same script. Let's use \"raw_input\" to ask the user whether she's encoding or decoding. If she's decoding, let's leave the table just like it is above. If she's encoding, let's rebuild the table like we did originally. Try it yourself on the code below. My answer is beneath that."
     ]
    },
    {
     "cell_type": "code",
     "collapsed": false,
     "input": [
      "#First, create our substitution table\n",
      "table = {}\n",
      "alphabet = \"abcdefghijklmnopqrstuvwxyz\"\n",
      "\n",
      "sentence = \"the quick brown fox jumped over the lazy dogs\"\n",
      "passphrase=\"\"\n",
      "for letter in sentence:\n",
      "    if letter not in passphrase and letter is not ' ':\n",
      "        passphrase = passphrase + letter\n",
      "print passphrase\n",
      "\n",
      "for num in range(26):\n",
      "    table[ passphrase[num]] = alphabet[num]\n",
      "table[' '] = ' '\n",
      "\n",
      "#Get a message from the user\n",
      "uncoded_message = raw_input(\"Type your message here, then press enter: \")\n",
      "\n",
      "#Encode and print the message\n",
      "coded_message = \"\"\n",
      "for letter in uncoded_message:\n",
      "    coded_message = coded_message + table[letter]\n",
      "print coded_message"
     ],
     "language": "python",
     "metadata": {},
     "outputs": []
    },
    {
     "cell_type": "code",
     "collapsed": false,
     "input": [
      "#First, create our substitution table\n",
      "table = {}\n",
      "alphabet = \"abcdefghijklmnopqrstuvwxyz\"\n",
      "\n",
      "sentence = \"the quick brown fox jumped over the lazy dogs\"\n",
      "passphrase=\"\"\n",
      "for letter in sentence:\n",
      "    if letter not in passphrase and letter is not ' ':\n",
      "        passphrase = passphrase + letter\n",
      "print passphrase\n",
      "\n",
      "for num in range(26):\n",
      "    table[ passphrase[num]] = alphabet[num]\n",
      "table[' '] = ' '\n",
      "\n",
      "task = raw_input(\"Are you encoding or decoding?\")\n",
      "if task == \"encoding\":\n",
      "    print \"remaking table\"\n",
      "    for num in range(26):\n",
      "        table[ alphabet[num]] = passphrase[num]\n",
      "        \n",
      "print table\n",
      "\n",
      "#Get a message from the user\n",
      "uncoded_message = raw_input(\"Type your message here, then press enter: \")\n",
      "\n",
      "#Encode and print the message\n",
      "coded_message = \"\"\n",
      "for letter in uncoded_message:\n",
      "    coded_message = coded_message + table[letter]\n",
      "print coded_message"
     ],
     "language": "python",
     "metadata": {},
     "outputs": []
    },
    {
     "cell_type": "markdown",
     "metadata": {},
     "source": [
      "So, we've got a working encoder/decoder. You can send secret messages to your friends. Whether or not they know Python, they can use this program to keep your messages secret. \n",
      "\n",
      "There's still lots left to do. Here are a few tasks for you to try.\n",
      "- Can you put some comments in the code so that others better understand what each part it doing?\n",
      "- Try putting a capital letter in your message. What happened? Try using google to figure out how to capitalize and uncapitalize your message. \n",
      "- You will also run into trouble if your message has punctuation like a period, comma, question mark or apostrophe. Can you solve that problem?\n",
      "- What if you replace \"thequickbrownfoxjumpedoverthelazydogs\" with your own passphrase? You're liable to run into trouble here for a few reasons. I chose that sentence because it contains every letter of the alphabet. Your passphrase is liable to miss a letter or two. What could you do to guarantee your table doesn't miss any letter even if they're missing from your passphrase?\n",
      "- Once you can handle different passphrases, why not take your passphrase from the user using raw_input? This makes your code quite secure if you and your friend have agreed on a passphrase ahead of time. Even if you haven't, you can use information that only the two of you know. For example, you could send them the encoded message, then tell them to use her dog's name plus your favorite singer as a passphrase."
     ]
    },
    {
     "cell_type": "code",
     "collapsed": false,
     "input": [],
     "language": "python",
     "metadata": {},
     "outputs": []
    }
   ],
   "metadata": {}
  }
 ]
}