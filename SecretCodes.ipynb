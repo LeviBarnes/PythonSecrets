{
 "cells": [
  {
   "cell_type": "markdown",
   "metadata": {},
   "source": [
    "## Sending Secret Messages with Python"
   ]
  },
  {
   "cell_type": "markdown",
   "metadata": {},
   "source": [
    "This notebook will teach you how to send secret messages to your friends using a computer language called \"Python.\" Python is used by thousands of programmers around the world to create websites and video games, to do science and math, even this web page is written using Python! "
   ]
  },
  {
   "cell_type": "markdown",
   "metadata": {},
   "source": [
    "Before we learn any Python, we need to learn just a bit about secret codes. One way to make your message secret is using a \"substitution cipher.\" This means that we replace every letter in our message with a different letter. For example, all of the c's in our message might become j's. The message will look like garbled nonsense to anyone who doesn't know which letter has been substituted. By the time you're done with this page, you'll be able to make this message\n",
    "\n",
    "    this is a super secret message\n",
    "\n",
    "Look like this\n",
    "\n",
    "    pkbm bm t mexuu mueuup nummtcu\n",
    "\n",
    "Only someone who knows the password will be able to turn it back into the original message. (By the way, did you notice, above that everywhere there's an 's' in the original message, the coded message has an 'm'?)\n",
    "\n",
    "To use a substitution cipher, the first thing to do is to decide which letter will replace which. We'll create a table like this one:"
   ]
  },
  {
   "cell_type": "markdown",
   "metadata": {},
   "source": [
    "<html><table>\n",
    "<tr><td>Old letter<br></td><td>New letter<br></td>\n",
    "<tr><td>A</td><td>N</td>\n",
    "<tr><td>B</td><td>F</td>\n",
    "<tr><td>C</td><td>R</td>\n",
    "<tr><td>D</td><td>L</td>\n",
    "<tr><td>E</td><td>A</td>\n",
    "<tr><td>F</td><td>T</td>\n",
    "<tr><td>G</td><td>Z</td>\n",
    "<tr><td>H</td><td>B</td>\n",
    "<tr><td>I</td><td>Q</td>\n",
    "<tr><td>...</td><td>...</td>\n",
    "</table></html>\n",
    "\n"
   ]
  },
  {
   "cell_type": "markdown",
   "metadata": {},
   "source": [
    "I've only shown part of the table. We'll see the rest later. \n",
    "\n",
    "The values in your table are not important except for a few rules:\n",
    "1. Every letter in the alphabet must be in the left column. \n",
    "2. Both you and the person youâ€™re sending to must know this table. \n",
    "3. Having each letter appear only once in the right column will make decoding easier."
   ]
  },
  {
   "cell_type": "markdown",
   "metadata": {},
   "source": [
    "To encode using your table is easy. For each letter in your message, instead of writing that letter, find it in the left column of your table, then write down the letter in the same row, but in the right column. For example, if your message is \n",
    "\tABBA HIGH DEF,\n",
    "using the table above, you would encode it as \n",
    "\tNFFN BQZB LAT.\n",
    "Take a minute to make sure I got it right. \n"
   ]
  },
  {
   "cell_type": "markdown",
   "metadata": {},
   "source": [
    "## How to use this notebook"
   ]
  },
  {
   "cell_type": "markdown",
   "metadata": {},
   "source": [
    "This lesson is written as a Jupyter notebook. Notebooks are a convenient way to add Python to a website. Wherever you see a box with \"In [ ]:\" next to it, you can click inside the box, then push Ctrl and Enter at the same time to make Python run the code inside. Try it with the box below."
   ]
  },
  {
   "cell_type": "code",
   "execution_count": 1,
   "metadata": {},
   "outputs": [
    {
     "name": "stdout",
     "output_type": "stream",
     "text": [
      "Hello my name is Levi.\n"
     ]
    }
   ],
   "source": [
    "print (\"Hello my name is Levi.\")"
   ]
  },
  {
   "cell_type": "markdown",
   "metadata": {},
   "source": [
    "You can also change the code in the boxes before you run them. Try replacing \"Levi\" with your name in the box above. Now, while the cursor is still in the box, push Ctrl+Enter to see Python echo it back. From here on out, make a habit of executing each box in this notebook with Ctrl-Enter.\n",
    "\n",
    "Now that you know a little bit about Jupyter notebooks, we're ready to learn some Python!"
   ]
  },
  {
   "cell_type": "markdown",
   "metadata": {},
   "source": [
    "### Python Dictionaries"
   ]
  },
  {
   "cell_type": "markdown",
   "metadata": {},
   "source": [
    "To get Python to do this work for us, the first thing to do is to decide on a table and create a â€œdictionaryâ€ in Python that keeps track of which letters get replaced by which new letters. A Python dictionary is a lot like the two-column table weâ€™ve been talking about. We create an empty table like this:"
   ]
  },
  {
   "cell_type": "code",
   "execution_count": 2,
   "metadata": {},
   "outputs": [
    {
     "name": "stdout",
     "output_type": "stream",
     "text": [
      "{}\n"
     ]
    }
   ],
   "source": [
    "table={}\n",
    "print (table)"
   ]
  },
  {
   "cell_type": "markdown",
   "metadata": {},
   "source": [
    "Don't go on until you click into the box above and push Ctrl+Enter. You should see {} appear below the box. One more thing about Jupyter notebooks. Each time you execute a box, Python remembers what you've done. Here, we created a dictionary called \"table.\" When we refer to \"table\" in the next box, Python will remember that \"table\" is an empty dictionary. The code in the box below adds one entry to your dictionary with the letter 'a' in the left column and 'n' in the right column. Try it out by pushing Ctrl-Enter in the box below."
   ]
  },
  {
   "cell_type": "code",
   "execution_count": 4,
   "metadata": {},
   "outputs": [
    {
     "name": "stdout",
     "output_type": "stream",
     "text": [
      "{'a': 'n'}\n"
     ]
    }
   ],
   "source": [
    "table={}\n",
    "table['a'] = 'n'\n",
    "print (table)"
   ]
  },
  {
   "cell_type": "markdown",
   "metadata": {},
   "source": [
    "Don't be afraid to change the code in the boxes. You'll learn a lot by playing around, so don't be shy. Make some changes to the code in the boxes, then push Ctrl-Enter to see what you changed. You might get an error from Python. That's OK. See if you can figure out how to fix it. As you play around, remember that the notebook is remembering your changes. If you want to clear the notebook's memory and start again, look for the menu option above called \"Kernel.\" Select \"Restart\" from that sub menu.\n",
    "\n",
    "Quick tip: In the box above, make sure to put the quotation marks around your letters. This tells Python that you mean the letter 'a', not a variable called a.\n",
    "\n",
    "Now that our table has some values in it, we can read from it like this:"
   ]
  },
  {
   "cell_type": "code",
   "execution_count": 5,
   "metadata": {},
   "outputs": [
    {
     "data": {
      "text/plain": [
       "'n'"
      ]
     },
     "execution_count": 5,
     "metadata": {},
     "output_type": "execute_result"
    }
   ],
   "source": [
    "newletter = table['a']\n",
    "newletter"
   ]
  },
  {
   "cell_type": "markdown",
   "metadata": {},
   "source": [
    "The left hand side of the table are called the \"keys.\" The right hand are called the \"values.\" Letâ€™s add a few rows to our table, then ask Python some questions. Push Ctrl-Enter in the boxes below and see what Python answers."
   ]
  },
  {
   "cell_type": "code",
   "execution_count": 6,
   "metadata": {},
   "outputs": [
    {
     "data": {
      "text/plain": [
       "{'a': 'n', 'b': 'f', 'c': 'r'}"
      ]
     },
     "execution_count": 6,
     "metadata": {},
     "output_type": "execute_result"
    }
   ],
   "source": [
    "table['b'] = 'f'\n",
    "table['c'] = 'r'\n",
    "table"
   ]
  },
  {
   "cell_type": "code",
   "execution_count": 7,
   "metadata": {},
   "outputs": [
    {
     "data": {
      "text/plain": [
       "dict_keys(['c', 'b', 'a'])"
      ]
     },
     "execution_count": 7,
     "metadata": {},
     "output_type": "execute_result"
    }
   ],
   "source": [
    "table.keys()"
   ]
  },
  {
   "cell_type": "code",
   "execution_count": 8,
   "metadata": {},
   "outputs": [
    {
     "data": {
      "text/plain": [
       "dict_values(['r', 'f', 'n'])"
      ]
     },
     "execution_count": 8,
     "metadata": {},
     "output_type": "execute_result"
    }
   ],
   "source": [
    "table.values()"
   ]
  },
  {
   "cell_type": "code",
   "execution_count": 9,
   "metadata": {},
   "outputs": [
    {
     "data": {
      "text/plain": [
       "{'a': 'n', 'b': 'f', 'c': 'r'}"
      ]
     },
     "execution_count": 9,
     "metadata": {},
     "output_type": "execute_result"
    }
   ],
   "source": [
    "table"
   ]
  },
  {
   "cell_type": "markdown",
   "metadata": {},
   "source": [
    "The colon (:) separates a \"key\" from its \"value.\"  'a':'n' means that all the a's become n's during encoding."
   ]
  },
  {
   "cell_type": "markdown",
   "metadata": {},
   "source": [
    "What if we ask for a table entry that hasn't been set yet?"
   ]
  },
  {
   "cell_type": "code",
   "execution_count": 10,
   "metadata": {},
   "outputs": [
    {
     "ename": "KeyError",
     "evalue": "'d'",
     "output_type": "error",
     "traceback": [
      "\u001b[0;31m---------------------------------------------------------------------------\u001b[0m",
      "\u001b[0;31mKeyError\u001b[0m                                  Traceback (most recent call last)",
      "\u001b[0;32m<ipython-input-10-9045148736fe>\u001b[0m in \u001b[0;36m<module>\u001b[0;34m()\u001b[0m\n\u001b[0;32m----> 1\u001b[0;31m \u001b[0mtable\u001b[0m\u001b[0;34m[\u001b[0m\u001b[0;34m'd'\u001b[0m\u001b[0;34m]\u001b[0m\u001b[0;34m\u001b[0m\u001b[0m\n\u001b[0m",
      "\u001b[0;31mKeyError\u001b[0m: 'd'"
     ]
    }
   ],
   "source": [
    "table['d']"
   ]
  },
  {
   "cell_type": "markdown",
   "metadata": {},
   "source": [
    "Python didn't like that and sent us back a KeyError. To avoid these errors, we can first check to see whether that table entry exists."
   ]
  },
  {
   "cell_type": "code",
   "execution_count": 11,
   "metadata": {},
   "outputs": [
    {
     "data": {
      "text/plain": [
       "False"
      ]
     },
     "execution_count": 11,
     "metadata": {},
     "output_type": "execute_result"
    }
   ],
   "source": [
    "'d' in table.keys( )"
   ]
  },
  {
   "cell_type": "markdown",
   "metadata": {},
   "source": [
    "We just asked Python, \"Is d one of the keys in our table?\" Python said, \"No.\"\n",
    "Now, let's create a table entry for 'd' and ask again."
   ]
  },
  {
   "cell_type": "code",
   "execution_count": 12,
   "metadata": {},
   "outputs": [
    {
     "data": {
      "text/plain": [
       "True"
      ]
     },
     "execution_count": 12,
     "metadata": {},
     "output_type": "execute_result"
    }
   ],
   "source": [
    "table['d'] = 'n'\n",
    "'d' in table.keys()"
   ]
  },
  {
   "cell_type": "markdown",
   "metadata": {},
   "source": [
    "A key can only appear in the left column one time. If I try to assign one letter on the left column to two different letters on the right, the dictionary will store the last value."
   ]
  },
  {
   "cell_type": "code",
   "execution_count": 13,
   "metadata": {},
   "outputs": [],
   "source": [
    "table['d'] = 'l'    "
   ]
  },
  {
   "cell_type": "markdown",
   "metadata": {},
   "source": [
    "The old table entry for 'd' is lost and replaced by the new value. Note that more than one key can correspond to a single value. When we assigned 'd' to be changed to 'n', both 'a' and 'd' were being translated to 'n'. Thatâ€™s perfectly OK."
   ]
  },
  {
   "cell_type": "markdown",
   "metadata": {},
   "source": [
    "### Python Lists"
   ]
  },
  {
   "cell_type": "markdown",
   "metadata": {},
   "source": [
    "Way to go! Hopefully, you're feeling comfortable with dictionaries. Make sure to execute the code in the boxes as you go by clicking into the box and pushing Ctrl-Enter. \n",
    "\n",
    "Next, we'll take a look at lists. A python list is like a dictionary where the keys are numbers, specifically integers (i.e. 0,1,2,3,4,5...). We can create a list like this:"
   ]
  },
  {
   "cell_type": "code",
   "execution_count": 14,
   "metadata": {},
   "outputs": [],
   "source": [
    "myList=['t','h','e','q']"
   ]
  },
  {
   "cell_type": "markdown",
   "metadata": {},
   "source": [
    "The list works a lot like a dictionary with numbers in the left column. We can ask for specific letters in the list by referring to their position in the list. Try this:"
   ]
  },
  {
   "cell_type": "code",
   "execution_count": 15,
   "metadata": {},
   "outputs": [
    {
     "data": {
      "text/plain": [
       "'e'"
      ]
     },
     "execution_count": 15,
     "metadata": {},
     "output_type": "execute_result"
    }
   ],
   "source": [
    "myList[2] "
   ]
  },
  {
   "cell_type": "markdown",
   "metadata": {},
   "source": [
    "Wait, but isn't 'e' the third letter in the list? It's important to remember that computers start counting from zero."
   ]
  },
  {
   "cell_type": "code",
   "execution_count": 16,
   "metadata": {},
   "outputs": [
    {
     "data": {
      "text/plain": [
       "'t'"
      ]
     },
     "execution_count": 16,
     "metadata": {},
     "output_type": "execute_result"
    }
   ],
   "source": [
    "myList[0]"
   ]
  },
  {
   "cell_type": "markdown",
   "metadata": {},
   "source": [
    "In a Python list, position 0 is the very start of the list. Now, there are 4 letters in the list. What do you think will happen if we ask for the letter in position 4?"
   ]
  },
  {
   "cell_type": "code",
   "execution_count": 17,
   "metadata": {},
   "outputs": [
    {
     "ename": "IndexError",
     "evalue": "list index out of range",
     "output_type": "error",
     "traceback": [
      "\u001b[0;31m---------------------------------------------------------------------------\u001b[0m",
      "\u001b[0;31mIndexError\u001b[0m                                Traceback (most recent call last)",
      "\u001b[0;32m<ipython-input-17-d264b8389cef>\u001b[0m in \u001b[0;36m<module>\u001b[0;34m()\u001b[0m\n\u001b[0;32m----> 1\u001b[0;31m \u001b[0mmyList\u001b[0m\u001b[0;34m[\u001b[0m\u001b[0;36m4\u001b[0m\u001b[0;34m]\u001b[0m\u001b[0;34m\u001b[0m\u001b[0m\n\u001b[0m",
      "\u001b[0;31mIndexError\u001b[0m: list index out of range"
     ]
    }
   ],
   "source": [
    "myList[4]"
   ]
  },
  {
   "cell_type": "markdown",
   "metadata": {},
   "source": [
    "What do you think this error means? (Hint: \"index\" is the number inside the square brackets.)"
   ]
  },
  {
   "cell_type": "markdown",
   "metadata": {},
   "source": [
    "The first element in our list is number 0. The last is number 3."
   ]
  },
  {
   "cell_type": "markdown",
   "metadata": {},
   "source": [
    "### Python strings are lists"
   ]
  },
  {
   "cell_type": "markdown",
   "metadata": {},
   "source": [
    "A bunch of text all together in Python is called a \"string.\" Here's a string"
   ]
  },
  {
   "cell_type": "code",
   "execution_count": 18,
   "metadata": {},
   "outputs": [
    {
     "data": {
      "text/plain": [
       "'the quick brown fox jumped over the lazy dogs'"
      ]
     },
     "execution_count": 18,
     "metadata": {},
     "output_type": "execute_result"
    }
   ],
   "source": [
    "myString = \"the quick brown fox jumped over the lazy dogs\"\n",
    "myString"
   ]
  },
  {
   "cell_type": "markdown",
   "metadata": {},
   "source": [
    "Our string acts just like a list"
   ]
  },
  {
   "cell_type": "code",
   "execution_count": 19,
   "metadata": {},
   "outputs": [
    {
     "data": {
      "text/plain": [
       "'e'"
      ]
     },
     "execution_count": 19,
     "metadata": {},
     "output_type": "execute_result"
    }
   ],
   "source": [
    "myString[2]"
   ]
  },
  {
   "cell_type": "markdown",
   "metadata": {},
   "source": [
    "The third letter in our string is 'e'. We ask Python for letter number 2 since Python starts counting from zero. \n",
    "Even the spaces in our string are considered letters."
   ]
  },
  {
   "cell_type": "code",
   "execution_count": 20,
   "metadata": {},
   "outputs": [
    {
     "data": {
      "text/plain": [
       "' '"
      ]
     },
     "execution_count": 20,
     "metadata": {},
     "output_type": "execute_result"
    }
   ],
   "source": [
    "myString[3]"
   ]
  },
  {
   "cell_type": "markdown",
   "metadata": {},
   "source": [
    "The output above just looks like two quote marks, but there's actually a space between them. The 4th \"letter\" in our string is actually a space. "
   ]
  },
  {
   "cell_type": "markdown",
   "metadata": {},
   "source": [
    "Take a minute to write some code yourself involving strings. You can edit the code in the box above and push Ctrl-Enter to execute it. Can you figure out which letter is 'q'? What if you pick a number that's too large, like 100?"
   ]
  },
  {
   "cell_type": "markdown",
   "metadata": {},
   "source": [
    "## Creating a cipher table from a string"
   ]
  },
  {
   "cell_type": "markdown",
   "metadata": {},
   "source": [
    "We can write a loop to create a dictionary from two lists. Let's build the same string as before"
   ]
  },
  {
   "cell_type": "code",
   "execution_count": 21,
   "metadata": {},
   "outputs": [],
   "source": [
    "sentence = \"the quick brown fox jumped over the lazy dogs\""
   ]
  },
  {
   "cell_type": "markdown",
   "metadata": {},
   "source": [
    "Just like before, we can treat it like a list of letters."
   ]
  },
  {
   "cell_type": "code",
   "execution_count": 22,
   "metadata": {},
   "outputs": [
    {
     "data": {
      "text/plain": [
       "'b'"
      ]
     },
     "execution_count": 22,
     "metadata": {},
     "output_type": "execute_result"
    }
   ],
   "source": [
    "sentence[10]"
   ]
  },
  {
   "cell_type": "markdown",
   "metadata": {},
   "source": [
    "Now, let's create another string like this."
   ]
  },
  {
   "cell_type": "code",
   "execution_count": 23,
   "metadata": {},
   "outputs": [],
   "source": [
    "everyletter = \"abcdefghijklmnopqrstuvwxyz\""
   ]
  },
  {
   "cell_type": "markdown",
   "metadata": {},
   "source": [
    "We're going to use these two strings to create a table like this"
   ]
  },
  {
   "cell_type": "markdown",
   "metadata": {},
   "source": [
    "<html><table>\n",
    "<tr><td>Old letter<br></td><td>New letter<br></td>\n",
    "<tr><td>A</td><td>T</td>\n",
    "<tr><td>B</td><td>H</td>\n",
    "<tr><td>C</td><td>E</td>\n",
    "<tr><td>D</td><td>Q</td>\n",
    "<tr><td>E</td><td>U</td>\n",
    "<tr><td>F</td><td>I</td>\n",
    "<tr><td>G</td><td>C</td>\n",
    "<tr><td>H</td><td>K</td>\n",
    "<tr><td>I</td><td>B</td>\n",
    "<tr><td>J</td><td>R</td>\n",
    "<tr><td>K</td><td>O</td>\n",
    "<tr><td>L</td><td>W</td>\n",
    "<tr><td>M</td><td>N</td>\n",
    "<tr><td>N</td><td>F</td>\n",
    "<tr><td>O</td><td>O</td>\n",
    "<tr><td>P</td><td>X</td>\n",
    "<tr><td>Q</td><td>J</td>\n",
    "<tr><td>R</td><td>U</td>\n",
    "<tr><td>S</td><td>M</td>\n",
    "<tr><td>T</td><td>P</td>\n",
    "<tr><td>U</td><td>E</td>\n",
    "<tr><td>V</td><td>D</td>\n",
    "<tr><td>W</td><td>O</td>\n",
    "<tr><td>X</td><td>V</td>\n",
    "<tr><td>Y</td><td>E</td>\n",
    "<tr><td>Z</td><td>R</td>\n",
    "</table></html>"
   ]
  },
  {
   "cell_type": "markdown",
   "metadata": {},
   "source": [
    "To create this list in Python, we could do this:"
   ]
  },
  {
   "cell_type": "code",
   "execution_count": 24,
   "metadata": {},
   "outputs": [
    {
     "data": {
      "text/plain": [
       "{'a': 't', 'b': 'h', 'c': 'e', 'd': ' ', 'e': 'q'}"
      ]
     },
     "execution_count": 24,
     "metadata": {},
     "output_type": "execute_result"
    }
   ],
   "source": [
    "table={}\n",
    "table[ everyletter[0]] = sentence[0]\n",
    "table[ everyletter[1]] = sentence[1]\n",
    "table[ everyletter[2]] = sentence[2]\n",
    "table[ everyletter[3]] = sentence[3]\n",
    "table[ everyletter[4]] = sentence[4]\n",
    "#And on and on...\n",
    "table"
   ]
  },
  {
   "cell_type": "markdown",
   "metadata": {},
   "source": [
    "This requires some explanation. When we write\n",
    "\n",
    "    table[ everyletter[0]] = sentence[0]\n",
    "    \n",
    "Python will look in the square brackets, [], following \"table[\" to see which letter to put in the left hand column. Instead of a letter, Python sees everyletter[0]. To Python, this means the first letter in the string called \"everyletter\", a. So, Python puts 'a' in the left hand column. "
   ]
  },
  {
   "cell_type": "markdown",
   "metadata": {},
   "source": [
    "Next, it looks for what to put in the right column after the equal sign. There, Python sees\n",
    "    sentence[0]\n",
    "which it knows means the first letter in the string \"sentence\" or 't'. So, Python creates a dictionary entry that replaces 'a' with 't'."
   ]
  },
  {
   "cell_type": "markdown",
   "metadata": {},
   "source": [
    "So, Python will act as if we wrote\n",
    "\n",
    "     table['a'] = 't'\n",
    "\n",
    "adding one entry to our translation table."
   ]
  },
  {
   "cell_type": "markdown",
   "metadata": {},
   "source": [
    "The line\n",
    "\n",
    "    table[ everyletter[1]] = sentence[1]\n",
    "\n",
    "creates another new row with the second letter in \"everyletter\" and the second letter in \"sentence.\""
   ]
  },
  {
   "cell_type": "markdown",
   "metadata": {},
   "source": [
    "This is tricky, so try it out a little. What would happen if I wrote"
   ]
  },
  {
   "cell_type": "code",
   "execution_count": 25,
   "metadata": {},
   "outputs": [
    {
     "data": {
      "text/plain": [
       "{'a': 't', 'b': 't', 'c': 'e', 'd': ' ', 'e': 'q'}"
      ]
     },
     "execution_count": 25,
     "metadata": {},
     "output_type": "execute_result"
    }
   ],
   "source": [
    "table[ everyletter[1]] = sentence[0]\n",
    "table"
   ]
  },
  {
   "cell_type": "markdown",
   "metadata": {},
   "source": [
    "What changed? Why? This is another good chance to play around by writing your own code."
   ]
  },
  {
   "cell_type": "markdown",
   "metadata": {},
   "source": [
    "### Loops in Python"
   ]
  },
  {
   "cell_type": "markdown",
   "metadata": {},
   "source": [
    "Instead of writing 26 lines like this, I'd like to write it just once, then have the computer repeat it 26 times increasing the number each time. For this, we use a \"for loop.\" Try this"
   ]
  },
  {
   "cell_type": "code",
   "execution_count": 26,
   "metadata": {},
   "outputs": [
    {
     "data": {
      "text/plain": [
       "{'a': 't',\n",
       " 'b': 'h',\n",
       " 'c': 'e',\n",
       " 'd': ' ',\n",
       " 'e': 'q',\n",
       " 'f': 'u',\n",
       " 'g': 'i',\n",
       " 'h': 'c',\n",
       " 'i': 'k',\n",
       " 'j': ' ',\n",
       " 'k': 'b',\n",
       " 'l': 'r',\n",
       " 'm': 'o',\n",
       " 'n': 'w',\n",
       " 'o': 'n',\n",
       " 'p': ' ',\n",
       " 'q': 'f',\n",
       " 'r': 'o',\n",
       " 's': 'x',\n",
       " 't': ' ',\n",
       " 'u': 'j',\n",
       " 'v': 'u',\n",
       " 'w': 'm',\n",
       " 'x': 'p',\n",
       " 'y': 'e',\n",
       " 'z': 'd'}"
      ]
     },
     "execution_count": 26,
     "metadata": {},
     "output_type": "execute_result"
    }
   ],
   "source": [
    "table={}\n",
    "for num in range(26):\n",
    "    table[ everyletter[num]] = sentence[num]\n",
    "table"
   ]
  },
  {
   "cell_type": "markdown",
   "metadata": {},
   "source": [
    "Don't worry if this isn't clear yet. We'll take a good look at this. The first line creates an empty dictionary. The next line is the loop\n",
    "\n",
    "    for num in range(26):\n",
    "    \n",
    "In ordinary English, it tells Python to create a list of 26 numbers starting from zero. Then Python executes this next command one time for each of those numbers. Each time it replaces 'num' with one of the numbers.\n",
    "\n",
    "Of course, you don't have to use 'num.' You can use anything you want. You could use your name\n",
    "\n",
    "    for levi in range(26):\n",
    "\n",
    "With this new version, it will replace 'levi' with each of the numbers.\n",
    "\n",
    "As a side note, you *can* use any name you want, but in writing computer programs, it's best to be as clear as you can about what all the parts are doing. You never know when you'll have to read your own program to fix problems or add something new. Also, when you write larger programs, you're usually working with a team of programmers. It might be someone else reading and fixing your code. Make sure your program is clear enough for someone else to read and understand."
   ]
  },
  {
   "cell_type": "markdown",
   "metadata": {},
   "source": [
    "Let's do a simpler loop first"
   ]
  },
  {
   "cell_type": "code",
   "execution_count": 27,
   "metadata": {},
   "outputs": [
    {
     "name": "stdout",
     "output_type": "stream",
     "text": [
      "Hi, Bart\n",
      "Hi, Lisa\n",
      "Hi, Maggie\n"
     ]
    }
   ],
   "source": [
    "for name in [\"Bart\", \"Lisa\", \"Maggie\"]:\n",
    "    print (\"Hi, \" + name)"
   ]
  },
  {
   "cell_type": "markdown",
   "metadata": {},
   "source": [
    "Here, we gave Python a list of three names. For each name on the list, Python executes the commands that follow, replacing \"name\" with one of the names in the list. This is the first time we've seen the Python \"print\" command, but it's an easy one. It just outputs to the screen whatever it finds inside the parentheses. \"Hi, \" + name, just means that we add each name in the list to the end of \"Hi, \" and send that to print.\n",
    "\n",
    "Try editing the loop above. Add your name (maybe it's Homer?). Make a list of your favorite sports teams and make Python cheer for them."
   ]
  },
  {
   "cell_type": "markdown",
   "metadata": {},
   "source": [
    "One tricky rule in Python involves indenting. It's possible to put lots of commands inside one for loop, but Python needs to be able to know which commands are in the loop and which are not. Each line that we want to be part of the loop, we indent, but we don't indent the for the loop statement itself. When Python sees a line that's not indented, it knows you've finished writing the loop. Take a look at this. Change the indenting and see what happens. What if you don't indent the \"I'll stop you\"? What if you *do* indent \"You'll never get away with this\"? Try it!"
   ]
  },
  {
   "cell_type": "code",
   "execution_count": 28,
   "metadata": {},
   "outputs": [
    {
     "name": "stdout",
     "output_type": "stream",
     "text": [
      "Oh no! It's Kylo Ren\n",
      "I'll stop you!\n",
      "Oh no! It's The Joker\n",
      "I'll stop you!\n",
      "Oh no! It's Magneto\n",
      "I'll stop you!\n",
      "Oh no! It's Megamind\n",
      "I'll stop you!\n",
      "You'll never get away with this.\n"
     ]
    }
   ],
   "source": [
    "for villain in [\"Kylo Ren\", \"The Joker\", \"Magneto\", \"Megamind\"]:\n",
    "    print (\"Oh no! It's \" + villain)\n",
    "    print (\"I'll stop you!\")\n",
    "print (\"You'll never get away with this.\")"
   ]
  },
  {
   "cell_type": "markdown",
   "metadata": {},
   "source": [
    "The spaces before the print statements tell us whether they're part of the loop to be executed once for each villain, or just a lone command to be executed only once. "
   ]
  },
  {
   "cell_type": "markdown",
   "metadata": {},
   "source": [
    "### Using Loops to make a table"
   ]
  },
  {
   "cell_type": "markdown",
   "metadata": {},
   "source": [
    "Now let's use our loops to create a code table"
   ]
  },
  {
   "cell_type": "code",
   "execution_count": 29,
   "metadata": {},
   "outputs": [
    {
     "data": {
      "text/plain": [
       "{'a': 't',\n",
       " 'b': 'h',\n",
       " 'c': 'e',\n",
       " 'd': ' ',\n",
       " 'e': 'q',\n",
       " 'f': 'u',\n",
       " 'g': 'i',\n",
       " 'h': 'c',\n",
       " 'i': 'k',\n",
       " 'j': ' ',\n",
       " 'k': 'b',\n",
       " 'l': 'r',\n",
       " 'm': 'o',\n",
       " 'n': 'w',\n",
       " 'o': 'n',\n",
       " 'p': ' ',\n",
       " 'q': 'f',\n",
       " 'r': 'o',\n",
       " 's': 'x',\n",
       " 't': ' ',\n",
       " 'u': 'j',\n",
       " 'v': 'u',\n",
       " 'w': 'm',\n",
       " 'x': 'p',\n",
       " 'y': 'e',\n",
       " 'z': 'd'}"
      ]
     },
     "execution_count": 29,
     "metadata": {},
     "output_type": "execute_result"
    }
   ],
   "source": [
    "for num in range(26):\n",
    "    table[ everyletter[num]] = sentence[num]\n",
    "table"
   ]
  },
  {
   "cell_type": "markdown",
   "metadata": {},
   "source": [
    "The \"range\" function just generates a list of numbers beginning with zero."
   ]
  },
  {
   "cell_type": "code",
   "execution_count": 31,
   "metadata": {},
   "outputs": [
    {
     "data": {
      "text/plain": [
       "[0, 1, 2, 3, 4]"
      ]
     },
     "execution_count": 31,
     "metadata": {},
     "output_type": "execute_result"
    }
   ],
   "source": [
    "[i for i in range(5)]"
   ]
  },
  {
   "cell_type": "markdown",
   "metadata": {},
   "source": [
    "So, to make our table, we make a list of numbers from 0 to 25, then for each number, Python repeats the command\n",
    "\n",
    "    table[ everyletter[num] ] = sentence[num]\n",
    "\n",
    "but it replaces 'num' with each of the numbers in the list. So it's exactly the same as writing\n",
    "\n",
    "    table[ everyletter[0] ] = sentence[0]\n",
    "    table[ everyletter[1] ] = sentence[1]\n",
    "    table[ everyletter[2] ] = sentence[2]\n",
    "    table[ everyletter[3] ] = sentence[3]\n",
    "    table[ everyletter[4] ] = sentence[4]\n",
    "    table[ everyletter[5] ] = sentence[5]\n",
    "    ...\n",
    "    (skip a few)\n",
    "    ...\n",
    "    table[ everyletter[25] ] = sentence[25] \n",
    "    \n",
    "except we only had to write those two lines. Much easier! (P.S. Why just 25? What happened to 26?)"
   ]
  },
  {
   "cell_type": "markdown",
   "metadata": {},
   "source": [
    "We can combine everything we've done so far into one script. Read it through carefully and see if you can describe what each line does."
   ]
  },
  {
   "cell_type": "code",
   "execution_count": 36,
   "metadata": {},
   "outputs": [
    {
     "data": {
      "text/plain": [
       "{'a': 't',\n",
       " 'b': 'h',\n",
       " 'c': 'e',\n",
       " 'd': 'q',\n",
       " 'e': 'u',\n",
       " 'f': 'i',\n",
       " 'g': 'c',\n",
       " 'h': 'k',\n",
       " 'i': 'b',\n",
       " 'j': 'r',\n",
       " 'k': 'o',\n",
       " 'l': 'w',\n",
       " 'm': 'n',\n",
       " 'n': 'f',\n",
       " 'o': 'o',\n",
       " 'p': 'x',\n",
       " 'q': 'j',\n",
       " 'r': 'u',\n",
       " 's': 'm',\n",
       " 't': 'p',\n",
       " 'u': 'e',\n",
       " 'v': 'd',\n",
       " 'w': 'o',\n",
       " 'x': 'v',\n",
       " 'y': 'e',\n",
       " 'z': 'r'}"
      ]
     },
     "execution_count": 36,
     "metadata": {},
     "output_type": "execute_result"
    }
   ],
   "source": [
    "table = {}\n",
    "everyletter = \"abcdefghijklmnopqrstuvwxyz\"\n",
    "sentence = \"thequickbrownfoxjumpedoverthelazydogs\"\n",
    "for num in range(26):\n",
    "    table[ everyletter[num]] = sentence[num]\n",
    "table"
   ]
  },
  {
   "cell_type": "markdown",
   "metadata": {},
   "source": [
    "### BREAK TIME!"
   ]
  },
  {
   "cell_type": "markdown",
   "metadata": {},
   "source": [
    "Congratulations! You're about halfway to the end. Take a minute to stand up, stretch your legs and savor your new  knowledge of Python dictionaries, lists and loops. Then, push Ctrl-Enter in the box below to watch the Minions. When you're done, we'll use the table we just created to encode our message."
   ]
  },
  {
   "cell_type": "code",
   "execution_count": 32,
   "metadata": {},
   "outputs": [
    {
     "data": {
      "image/jpeg": "[encoded data removed]",
      "text/html": [
       "\n",
       "        <iframe\n",
       "            width=\"400\"\n",
       "            height=\"300\"\n",
       "            src=\"https://www.youtube.com/embed/rl6-zJharrs\"\n",
       "            frameborder=\"0\"\n",
       "            allowfullscreen\n",
       "        ></iframe>\n",
       "        "
      ],
      "text/plain": [
       "<IPython.lib.display.YouTubeVideo at 0x7f8638e482e8>"
      ]
     },
     "execution_count": 32,
     "metadata": {},
     "output_type": "execute_result"
    }
   ],
   "source": [
    "from IPython.display import YouTubeVideo\n",
    "YouTubeVideo(\"rl6-zJharrs\")"
   ]
  },
  {
   "cell_type": "markdown",
   "metadata": {},
   "source": [
    "### Using our table to encode"
   ]
  },
  {
   "cell_type": "markdown",
   "metadata": {},
   "source": [
    "Welcome back! We're almost ready to encode our message using our table. Start with this for loop. Before you hit Ctrl-Enter, see if you can predict how Python will respond. Then run it and see if you were right."
   ]
  },
  {
   "cell_type": "code",
   "execution_count": 33,
   "metadata": {},
   "outputs": [
    {
     "name": "stdout",
     "output_type": "stream",
     "text": [
      "t\n",
      "h\n",
      "i\n",
      "s\n",
      " \n",
      "i\n",
      "s\n",
      " \n",
      "a\n",
      " \n",
      "s\n",
      "u\n",
      "p\n",
      "e\n",
      "r\n",
      " \n",
      "s\n",
      "e\n",
      "c\n",
      "r\n",
      "e\n",
      "t\n",
      " \n",
      "m\n",
      "e\n",
      "s\n",
      "s\n",
      "a\n",
      "g\n",
      "e\n"
     ]
    }
   ],
   "source": [
    "for letter in \"this is a super secret message\":\n",
    "    print (letter)"
   ]
  },
  {
   "cell_type": "markdown",
   "metadata": {},
   "source": [
    "That's not very secret yet. This time, instead of printing our each letter of our message, let's look in the table, swap the letter, then print it out. Do the same as before with this code. Can you predict what Python will do?"
   ]
  },
  {
   "cell_type": "code",
   "execution_count": 34,
   "metadata": {},
   "outputs": [
    {
     "name": "stdout",
     "output_type": "stream",
     "text": [
      " \n",
      "c\n",
      "k\n",
      "x\n"
     ]
    },
    {
     "ename": "KeyError",
     "evalue": "' '",
     "output_type": "error",
     "traceback": [
      "\u001b[0;31m---------------------------------------------------------------------------\u001b[0m",
      "\u001b[0;31mKeyError\u001b[0m                                  Traceback (most recent call last)",
      "\u001b[0;32m<ipython-input-34-d905fbd3bc6b>\u001b[0m in \u001b[0;36m<module>\u001b[0;34m()\u001b[0m\n\u001b[1;32m      1\u001b[0m \u001b[0;32mfor\u001b[0m \u001b[0mletter\u001b[0m \u001b[0;32min\u001b[0m \u001b[0;34m\"this is a super secret message\"\u001b[0m\u001b[0;34m:\u001b[0m\u001b[0;34m\u001b[0m\u001b[0m\n\u001b[0;32m----> 2\u001b[0;31m     \u001b[0mprint\u001b[0m \u001b[0;34m(\u001b[0m\u001b[0mtable\u001b[0m\u001b[0;34m[\u001b[0m\u001b[0mletter\u001b[0m\u001b[0;34m]\u001b[0m\u001b[0;34m)\u001b[0m\u001b[0;34m\u001b[0m\u001b[0m\n\u001b[0m",
      "\u001b[0;31mKeyError\u001b[0m: ' '"
     ]
    }
   ],
   "source": [
    "for letter in \"this is a super secret message\":\n",
    "    print (table[letter])"
   ]
  },
  {
   "cell_type": "markdown",
   "metadata": {},
   "source": [
    "Oops! It seemed to be doing fine, but we crashed on the 5th letter. We'll need to do some \"debugging.\" Try modifying your loop like this."
   ]
  },
  {
   "cell_type": "code",
   "execution_count": 37,
   "metadata": {},
   "outputs": [
    {
     "name": "stdout",
     "output_type": "stream",
     "text": [
      "old: t\n",
      "new: p\n",
      "old: h\n",
      "new: k\n",
      "old: i\n",
      "new: b\n",
      "old: s\n",
      "new: m\n",
      "old:  \n"
     ]
    },
    {
     "ename": "KeyError",
     "evalue": "' '",
     "output_type": "error",
     "traceback": [
      "\u001b[0;31m---------------------------------------------------------------------------\u001b[0m",
      "\u001b[0;31mKeyError\u001b[0m                                  Traceback (most recent call last)",
      "\u001b[0;32m<ipython-input-37-02a43435b993>\u001b[0m in \u001b[0;36m<module>\u001b[0;34m()\u001b[0m\n\u001b[1;32m      1\u001b[0m \u001b[0;32mfor\u001b[0m \u001b[0mletter\u001b[0m \u001b[0;32min\u001b[0m \u001b[0;34m\"this is a super secret message\"\u001b[0m\u001b[0;34m:\u001b[0m\u001b[0;34m\u001b[0m\u001b[0m\n\u001b[1;32m      2\u001b[0m     \u001b[0mprint\u001b[0m \u001b[0;34m(\u001b[0m\u001b[0;34m\"old: \"\u001b[0m \u001b[0;34m+\u001b[0m \u001b[0mletter\u001b[0m\u001b[0;34m)\u001b[0m\u001b[0;34m\u001b[0m\u001b[0m\n\u001b[0;32m----> 3\u001b[0;31m     \u001b[0mprint\u001b[0m \u001b[0;34m(\u001b[0m\u001b[0;34m\"new: \"\u001b[0m \u001b[0;34m+\u001b[0m \u001b[0mtable\u001b[0m\u001b[0;34m[\u001b[0m\u001b[0mletter\u001b[0m\u001b[0;34m]\u001b[0m\u001b[0;34m)\u001b[0m\u001b[0;34m\u001b[0m\u001b[0m\n\u001b[0m",
      "\u001b[0;31mKeyError\u001b[0m: ' '"
     ]
    }
   ],
   "source": [
    "for letter in \"this is a super secret message\":\n",
    "    print (\"old: \" + letter)\n",
    "    print (\"new: \" + table[letter])"
   ]
  },
  {
   "cell_type": "markdown",
   "metadata": {},
   "source": [
    "It's the space! Python is complaining because we asked for the table entry with a space, ' ', in the left column. But there is no such entry. Remember when we called the left hand column the \"keys\"? A KeyError means we asked for a key that isn't in the table. It even told us the incorrect key was ' '--the space! There are several ways to solve this. What would you do? Take a minute and try it."
   ]
  },
  {
   "cell_type": "markdown",
   "metadata": {},
   "source": [
    "One way to solve this is just to add an entry for ' '."
   ]
  },
  {
   "cell_type": "code",
   "execution_count": 38,
   "metadata": {},
   "outputs": [],
   "source": [
    "table[' '] = ' '"
   ]
  },
  {
   "cell_type": "markdown",
   "metadata": {},
   "source": [
    "Now, there *is* an entry for ' '. It just gets replaced by ' ' again. Now our original program works."
   ]
  },
  {
   "cell_type": "code",
   "execution_count": 39,
   "metadata": {},
   "outputs": [
    {
     "name": "stdout",
     "output_type": "stream",
     "text": [
      "p\n",
      "k\n",
      "b\n",
      "m\n",
      " \n",
      "b\n",
      "m\n",
      " \n",
      "t\n",
      " \n",
      "m\n",
      "e\n",
      "x\n",
      "u\n",
      "u\n",
      " \n",
      "m\n",
      "u\n",
      "e\n",
      "u\n",
      "u\n",
      "p\n",
      " \n",
      "n\n",
      "u\n",
      "m\n",
      "m\n",
      "t\n",
      "c\n",
      "u\n"
     ]
    }
   ],
   "source": [
    "for letter in \"this is a super secret message\":\n",
    "    print (table[letter])\n",
    "    table[' '] = ' '"
   ]
  },
  {
   "cell_type": "markdown",
   "metadata": {},
   "source": [
    "We did it! This is just what we'd expect if we encoded this message by hand."
   ]
  },
  {
   "cell_type": "markdown",
   "metadata": {},
   "source": [
    "We can do a few things to improve it. First, we can create a new string rather than printing our encoded message with one letter on each line. We'll first create a string that has no letters in it. As we encode each letter, we'll add it to the string. Then we'll print it at the end."
   ]
  },
  {
   "cell_type": "code",
   "execution_count": 40,
   "metadata": {},
   "outputs": [
    {
     "name": "stdout",
     "output_type": "stream",
     "text": [
      "pkbm bm t mexuu mueuup nummtcu\n"
     ]
    }
   ],
   "source": [
    "coded_message = \"\"\n",
    "for letter in \"this is a super secret message\":\n",
    "    coded_message = coded_message + table[letter]\n",
    "print (coded_message)"
   ]
  },
  {
   "cell_type": "markdown",
   "metadata": {},
   "source": [
    "Let's look closer at this one, too. At the beginning, \n",
    "    coded_message\n",
    " had no letters at all. But at each step of the loop, instead of printing \n",
    "    table[letter]\n",
    " we add it to the end of\n",
    "    coded_message\n",
    " by writing \n",
    "\n",
    "    coded_message = coded_message + table[letter]\n",
    "    \n",
    "To Python, the equal sign means making a change. Whatever is to the left of the = is the thing we're replacing. To programmers, this 'thing' is called a 'variable'. A variable is a name that represents something else (a number, a word, a dictionary) in your program. In this case, Python knows we want to put something new into coded_message. And what is that something? It's the original coded_message plus table[letter]."
   ]
  },
  {
   "cell_type": "markdown",
   "metadata": {},
   "source": [
    "We can put this all together to have a single program that creates our table and encrypts our message"
   ]
  },
  {
   "cell_type": "code",
   "execution_count": 41,
   "metadata": {},
   "outputs": [
    {
     "name": "stdout",
     "output_type": "stream",
     "text": [
      "{'x': 'v', 'e': 'u', 'r': 'u', 'g': 'c', 'm': 'n', 'c': 'e', 'p': 'x', 'u': 'e', 't': 'p', 'o': 'o', 'a': 't', 'l': 'w', 's': 'm', 'v': 'd', 'b': 'h', 'f': 'i', 'k': 'o', 'j': 'r', 'd': 'q', 'h': 'k', 'n': 'f', 'q': 'j', 'i': 'b', 'y': 'e', 'z': 'r', 'w': 'o'}\n",
      "obffuu obffuu ekbeouf qbffuu\n"
     ]
    }
   ],
   "source": [
    "table = {}\n",
    "everyletter = \"abcdefghijklmnopqrstuvwxyz\"\n",
    "sentence = \"thequickbrownfoxjumpedoverthelazydogs\"\n",
    "for num in range(26):\n",
    "    table[ everyletter[num]] = sentence[num]\n",
    "print (table)\n",
    "table[' '] = ' '\n",
    "coded_message = \"\"\n",
    "for letter in \"winner winner chicken dinner\":\n",
    "    coded_message = coded_message + table[letter]\n",
    "print (coded_message)"
   ]
  },
  {
   "cell_type": "markdown",
   "metadata": {},
   "source": [
    "This is pretty slick. All we have to do is replace \"this is a super secret message\" with our own and Python does the rest of the work. Now, it's time to play around. Change the script above to encrypt a message of your own. One word of warning. We're not ready to use capital letters or punctuation yet. Use just lower case letters. \n",
    "\n",
    "You can also try replacing \"thequickbrownfox..\" with your own sentence. What if your sentence is all x's (\"xxxxxxxxxxxxx\")? \n",
    "\n",
    "Here are some other things to try:\n",
    "- Try encoding \"abcdefghijklmnopqrstuvwxyz\" as your secret message? Where did the \"lazy dogs\" go?\n",
    "- Encode your message twice to make it harder to crack. You can do this by putting your encoded output in as your secret message, but there's an easier way. What if you replace the line\n",
    "\n",
    "        coded_message = coded_message + table[letter]\n",
    "   \n",
    "with\n",
    "\n",
    "         coded_message = coded_message + table[table[letter]]\n",
    "\n",
    "What do you expect it to do? See if you can predict the result for a short message like your name.\n",
    "- Can you decode your message? What happens if your switch the alphabet and the sentence? Why?\n",
    "\n",
    "Here's another copy of the same code so you'll still have a clean copy to refer to as you play around."
   ]
  },
  {
   "cell_type": "code",
   "execution_count": 43,
   "metadata": {},
   "outputs": [
    {
     "name": "stdout",
     "output_type": "stream",
     "text": [
      "{'x': 'v', 'e': 'u', 'r': 'u', 'g': 'c', 'm': 'n', 'c': 'e', 'p': 'x', 'u': 'e', 't': 'p', 'o': 'o', 'a': 't', 'l': 'w', 's': 'm', 'v': 'd', 'b': 'h', 'f': 'i', 'k': 'o', 'j': 'r', 'd': 'q', 'h': 'k', 'n': 'f', 'q': 'j', 'i': 'b', 'y': 'e', 'z': 'r', 'w': 'o'}\n",
      "ne putekuu bm t ktfqmonu cufbem\n"
     ]
    }
   ],
   "source": [
    "table = {}\n",
    "everyletter = \"abcdefghijklmnopqrstuvwxyz\"\n",
    "sentence = \"thequickbrownfoxjumpedoverthelazydogs\"\n",
    "for num in range(26):\n",
    "    table[ everyletter[num]] = sentence[num]\n",
    "print (table)\n",
    "table[' '] = ' '\n",
    "coded_message = \"\"\n",
    "for letter in \"my teacher is a handsome genius\":\n",
    "    coded_message = coded_message + table[letter]\n",
    "print (coded_message)"
   ]
  },
  {
   "cell_type": "markdown",
   "metadata": {},
   "source": [
    "### Getting Input From the User"
   ]
  },
  {
   "cell_type": "markdown",
   "metadata": {},
   "source": [
    "It's a lot of work to modify your program for every new message you want to encode. Let's give the message another name like \"uncoded_message\""
   ]
  },
  {
   "cell_type": "code",
   "execution_count": 44,
   "metadata": {
    "scrolled": true
   },
   "outputs": [
    {
     "ename": "NameError",
     "evalue": "name 'uncoded_message' is not defined",
     "output_type": "error",
     "traceback": [
      "\u001b[0;31m---------------------------------------------------------------------------\u001b[0m",
      "\u001b[0;31mNameError\u001b[0m                                 Traceback (most recent call last)",
      "\u001b[0;32m<ipython-input-44-8ba5a603370a>\u001b[0m in \u001b[0;36m<module>\u001b[0;34m()\u001b[0m\n\u001b[1;32m      1\u001b[0m \u001b[0mcoded_message\u001b[0m \u001b[0;34m=\u001b[0m \u001b[0;34m\"\"\u001b[0m\u001b[0;34m\u001b[0m\u001b[0m\n\u001b[0;32m----> 2\u001b[0;31m \u001b[0;32mfor\u001b[0m \u001b[0mletter\u001b[0m \u001b[0;32min\u001b[0m \u001b[0muncoded_message\u001b[0m\u001b[0;34m:\u001b[0m\u001b[0;34m\u001b[0m\u001b[0m\n\u001b[0m\u001b[1;32m      3\u001b[0m     \u001b[0mcoded_message\u001b[0m \u001b[0;34m=\u001b[0m \u001b[0mcoded_message\u001b[0m \u001b[0;34m+\u001b[0m \u001b[0mtable\u001b[0m\u001b[0;34m[\u001b[0m\u001b[0mletter\u001b[0m\u001b[0;34m]\u001b[0m\u001b[0;34m\u001b[0m\u001b[0m\n\u001b[1;32m      4\u001b[0m \u001b[0mprint\u001b[0m \u001b[0;34m(\u001b[0m\u001b[0mcoded_message\u001b[0m\u001b[0;34m)\u001b[0m\u001b[0;34m\u001b[0m\u001b[0m\n",
      "\u001b[0;31mNameError\u001b[0m: name 'uncoded_message' is not defined"
     ]
    }
   ],
   "source": [
    "coded_message = \"\"\n",
    "for letter in uncoded_message:\n",
    "    coded_message = coded_message + table[letter]\n",
    "print (coded_message)"
   ]
  },
  {
   "cell_type": "markdown",
   "metadata": {},
   "source": [
    "Uh-oh! Can you find and fix the problem above?"
   ]
  },
  {
   "cell_type": "markdown",
   "metadata": {},
   "source": [
    "We need to assign uncoded_message to be something. We can add a line like this:\n",
    "\n",
    "    uncoded_message = \"this is a super secret message\"\n",
    "    \n",
    "Add it to the program above and see how it works. Make sure to add it <i>before</i> the loop. Python runs your commands starting from the top. Before it can use the variable uncoded_message it needs you to tell it what uncoded_message is."
   ]
  },
  {
   "cell_type": "markdown",
   "metadata": {},
   "source": [
    "Instead of having the secret message in the program, there is a way to ask the user to provide the message. The command for this is \"raw_input.\" Try this."
   ]
  },
  {
   "cell_type": "code",
   "execution_count": 46,
   "metadata": {},
   "outputs": [
    {
     "name": "stdout",
     "output_type": "stream",
     "text": [
      "What is your name? Levi\n",
      "Well, hello, Levi\n"
     ]
    }
   ],
   "source": [
    "name = input(\"What is your name? \")\n",
    "print (\"Well, hello, \" + name)"
   ]
  },
  {
   "cell_type": "markdown",
   "metadata": {},
   "source": [
    "Let use the same thing for getting a secret message. Modify the code below to use raw_input to create uncoded_message."
   ]
  },
  {
   "cell_type": "code",
   "execution_count": 47,
   "metadata": {},
   "outputs": [
    {
     "name": "stdout",
     "output_type": "stream",
     "text": [
      "What message should I encode?my teacher is a handsome genius\n",
      "ne putekuu bm t ktfqmonu cufbem\n"
     ]
    }
   ],
   "source": [
    "uncoded_message = input(\"What message should I encode?\")\n",
    "coded_message = \"\"\n",
    "for letter in uncoded_message:\n",
    "    coded_message = coded_message + table[letter]\n",
    "print (coded_message)"
   ]
  },
  {
   "cell_type": "markdown",
   "metadata": {},
   "source": [
    "Now, let's add this to our main program. One quick tip. For now, when our program asks for input, you might want to use all lower case letters--no capitals and no punctuation. You're welcome to try anything you want, but don't be frustrated by the error messages. We'll discuss the reason for those a little later."
   ]
  },
  {
   "cell_type": "code",
   "execution_count": null,
   "metadata": {},
   "outputs": [],
   "source": [
    "#First, create our substitution table\n",
    "table = {}\n",
    "everyletter = \"abcdefghijklmnopqrstuvwxyz\"\n",
    "sentence = \"thequickbrownfoxjumpedoverthelazydogs\"\n",
    "for num in range(26):\n",
    "    table[ everyletter[num]] = sentence[num]\n",
    "table[' '] = ' '\n",
    "\n",
    "#Get a message from the user\n",
    "uncoded_message = input(\"Type your message here, then press enter: \")\n",
    "\n",
    "#Encode and print the message\n",
    "coded_message = \"\"\n",
    "for letter in uncoded_message:\n",
    "    coded_message = coded_message + table[letter]\n",
    "print (coded_message)"
   ]
  },
  {
   "cell_type": "markdown",
   "metadata": {},
   "source": [
    "In the above code, we made a few other changes. Can you see them? We added some lines beginning with #. When we begin a line with #, we're telling Python that the line is just for other humans to read and Python ignores it. So, we can put whatever we want there and it won't affect our program. It's a good idea to put comments in your program so someone else knows what you're doing."
   ]
  },
  {
   "cell_type": "markdown",
   "metadata": {},
   "source": [
    "## Decoding your message"
   ]
  },
  {
   "cell_type": "markdown",
   "metadata": {},
   "source": [
    "To decode a message encoded with a substitution cipher, we switch the columns of the table. If during encoding, we replaced all the a's with t's, then to decode we should change the t's back into a's. But our table generated with the \"quick brown fox\" sentence creates a problem. Here it is below."
   ]
  },
  {
   "cell_type": "markdown",
   "metadata": {},
   "source": [
    "<html><table>\n",
    "<tr><td>Old letter<br></td><td>New letter<br></td><td><br></td><td>Old letter<br></td><td>New letter</td>\n",
    "<tr><td>A</td><td>T</td><td></td><td>N</td><td>F</td>\n",
    "<tr><td>B</td><td>H</td><td></td><td>O</td><td>O</td>\n",
    "<tr><td>C</td><td>E</td><td></td><td>P</td><td>X</td>\n",
    "<tr><td>D</td><td>Q</td><td></td><td>Q</td><td>J</td>\n",
    "<tr><td>E</td><td>U</td><td></td><td>R</td><td>U</td>\n",
    "<tr><td>F</td><td>I</td><td></td><td>S</td><td>M</td>\n",
    "<tr><td>G</td><td>C</td><td></td><td>T</td><td>P</td>\n",
    "<tr><td>H</td><td>K</td><td></td><td>U</td><td>E</td>\n",
    "<tr><td>I</td><td>B</td><td></td><td>V</td><td>D</td>\n",
    "<tr><td>J</td><td>R</td><td></td><td>W</td><td>O</td>\n",
    "<tr><td>K</td><td>O</td><td></td><td>X</td><td>V</td>\n",
    "<tr><td>L</td><td>W</td><td></td><td>Y</td><td>E</td>\n",
    "<tr><td>M</td><td>N</td><td></td><td>Z</td><td>R</td>\n",
    "</table></html>"
   ]
  },
  {
   "cell_type": "markdown",
   "metadata": {},
   "source": [
    "In this table, 'c', 'u' and 'y' are all being changed into 'e'. So, when my encoded message contains an 'e', how will I know whether if began as a c, u or y?"
   ]
  },
  {
   "cell_type": "markdown",
   "metadata": {},
   "source": [
    "We can solve this by making sure each letter appears only once in 'sentence.' We could, for example, assign sentence to be 'thequickbrownfxjmpdvlazygs'. This is easy to do and gives a well-behaved table, but with just a little thought, we can get Python to remove the duplicate letters for us."
   ]
  },
  {
   "cell_type": "markdown",
   "metadata": {},
   "source": [
    "### 'if' statements"
   ]
  },
  {
   "cell_type": "markdown",
   "metadata": {},
   "source": [
    "An 'if' statement will do the trick here. 'If' statements allow us to provide two sets of instructions and letting Python decide which set to run based on a test that we determine. In our program, we're going to tell Python to consider each letter of our sentence individually. If the letter is not already part of our table, then use it. If not, ignore it. But let's start with an easier one first. Run the box below with Ctrl-Enter."
   ]
  },
  {
   "cell_type": "code",
   "execution_count": 48,
   "metadata": {},
   "outputs": [
    {
     "name": "stdout",
     "output_type": "stream",
     "text": [
      "May the force be with you, Luke\n"
     ]
    }
   ],
   "source": [
    "name = \"Luke\"\n",
    "if name is \"Luke\":\n",
    "    print (\"May the force be with you, \" + name)"
   ]
  },
  {
   "cell_type": "markdown",
   "metadata": {},
   "source": [
    "That looks easy enough. "
   ]
  },
  {
   "cell_type": "code",
   "execution_count": 49,
   "metadata": {},
   "outputs": [],
   "source": [
    "name = \"Anakin\"\n",
    "if name is \"Luke\":\n",
    "    print (\"May the force be with you, \" + name)"
   ]
  },
  {
   "cell_type": "markdown",
   "metadata": {},
   "source": [
    "Aha. No message that time. Notice that the indenting rules are the same for \"if\" statements as for \"for\" statements. As long as you indent, Python will treat each new statement as part of the \"if\" clause and only execute it if the \"if\" condition is true. What if I'm not Luke?\n",
    "\n",
    "Next, let's let the user decide her own name."
   ]
  },
  {
   "cell_type": "code",
   "execution_count": 52,
   "metadata": {},
   "outputs": [
    {
     "name": "stdout",
     "output_type": "stream",
     "text": [
      "What is your name? Leia\n"
     ]
    }
   ],
   "source": [
    "name = input(\"What is your name? \")\n",
    "if name == \"Luke\":\n",
    "    print (\"May the force be with you, \" + name)"
   ]
  },
  {
   "cell_type": "markdown",
   "metadata": {},
   "source": [
    "You should get a message only if you tell Python your name is Luke. There's one new idea here. I used \"==\" instead of \"is\" here. In Python, these two mean almost the same thing. Usually you can get away with using either, but it's a good idea to always use == when comparing two strings. This is particularly true when one string is returned by input.\n",
    "\n",
    "We could do this test for a list of names. Can you modify the code above to repeat this for a list of names, say \n",
    "\n",
    "    [\"Leia\", \"Luke\", \"Anakin\"]  \n",
    "    \n",
    "and only greet Luke? It's a little bit tricky. If Python gives you an error message, be sure to read it. It often gives you a clue about how to fix the problem. If you give up, scroll down to see my answer.\n",
    "<br><br><br><br><br><br><br><br><br><br><br><br><br><br><br><br><br><br>"
   ]
  },
  {
   "cell_type": "code",
   "execution_count": null,
   "metadata": {},
   "outputs": [],
   "source": [
    "for name in [\"Luke\", \"Leia\", \"Anakin\"]:\n",
    "    if name is \"Luke\":\n",
    "        print (\"May the force be with you, \" + name)"
   ]
  },
  {
   "cell_type": "markdown",
   "metadata": {},
   "source": [
    "The indentation was tricky here. Look at the line that starts with \"print\". We indented that one a long way! That's because we wanted that line to be part of the \"if\" code. But the \"if\" statement was *already* indented because it's in the for loop. So we indented it twice. If we don't indent enough, we'll get an error from Python. Try it. One rule about Python is that after a line that ends with a colon (like if and for statements) we always have to indent one more level.\n",
    "\n",
    "Poor Leia. It's a shame to leave her out. (Spoiler alert: she's Luke's sister). We can include her two in one of two ways. Python understands the word \"or\", so we can give Python two names."
   ]
  },
  {
   "cell_type": "code",
   "execution_count": 53,
   "metadata": {},
   "outputs": [
    {
     "name": "stdout",
     "output_type": "stream",
     "text": [
      "May the force be with you, Luke\n",
      "May the force be with you, Leia\n"
     ]
    }
   ],
   "source": [
    "for name in [\"Luke\", \"Leia\", \"Anakin\"]:\n",
    "    if name is \"Luke\" or name is \"Leia\":\n",
    "        print (\"May the force be with you, \" + name)"
   ]
  },
  {
   "cell_type": "markdown",
   "metadata": {},
   "source": [
    "The other way is to explicitly leave Anakin out. Python also understands \"not\", but in a funny way. Watch."
   ]
  },
  {
   "cell_type": "code",
   "execution_count": 54,
   "metadata": {},
   "outputs": [
    {
     "name": "stdout",
     "output_type": "stream",
     "text": [
      "May the force be with you, Luke\n",
      "May the force be with you, Leia\n"
     ]
    }
   ],
   "source": [
    "for name in [\"Luke\", \"Leia\", \"Anakin\"]:\n",
    "    if not name is \"Anakin\":\n",
    "        print (\"May the force be with you, \" + name)"
   ]
  },
  {
   "cell_type": "markdown",
   "metadata": {},
   "source": [
    "Python first tests\n",
    "\n",
    "    name is \"Anakin\"\n",
    "    \n",
    "then the \"not\" tells Python to reverse that decision and execute the code only if the name is *not* Anakin."
   ]
  },
  {
   "cell_type": "markdown",
   "metadata": {},
   "source": [
    "### Removing our duplicates with \"if\""
   ]
  },
  {
   "cell_type": "markdown",
   "metadata": {},
   "source": [
    "Now, let's use an if loop to remove the duplicates from our sentence. It looks a lot like our greeting loop above."
   ]
  },
  {
   "cell_type": "code",
   "execution_count": 55,
   "metadata": {},
   "outputs": [
    {
     "name": "stdout",
     "output_type": "stream",
     "text": [
      "the quickbrownfxjmpdvlazygs\n"
     ]
    }
   ],
   "source": [
    "sentence = \"the quick brown fox jumped over the lazy dogs\"\n",
    "passphrase = \"\"\n",
    "for letter in sentence:\n",
    "    if letter not in passphrase:\n",
    "        passphrase = passphrase + letter\n",
    "print (passphrase)"
   ]
  },
  {
   "cell_type": "markdown",
   "metadata": {},
   "source": [
    "That looks almost right. It would be perfect if not for that lousy space. To get rid of that, we can use \"and\" to test two different things. With \"or\" we only needed one of the two tests to be true (\"either Luke OR Leia\") but with \"and\", both statements must be true. Try this."
   ]
  },
  {
   "cell_type": "code",
   "execution_count": 56,
   "metadata": {},
   "outputs": [
    {
     "name": "stdout",
     "output_type": "stream",
     "text": [
      "thequickbrownfxjmpdvlazygs\n"
     ]
    }
   ],
   "source": [
    "sentence = \"the quick brown fox jumped over the lazy dogs\"\n",
    "passphrase = \"\"\n",
    "for letter in sentence:\n",
    "    if letter not in passphrase and letter is not ' ':\n",
    "        passphrase = passphrase + letter\n",
    "print (passphrase)"
   ]
  },
  {
   "cell_type": "markdown",
   "metadata": {},
   "source": [
    "Perfect. Let's incorporate this into our code. In the code below, I've left a tricky \"bug\". A \"bug\" is what programmers call a mistake in the code that causes the program not to work right. \n",
    "\n",
    "Because of our bug, we seem to be getting the very same output. Try using \"cuy\" as your message. Why are c and y both still being changed to 'e'? To get really confused, try making your message \"jdatddr\". What's going on there? You might want to add some \"print\" statements to help you see what's going on."
   ]
  },
  {
   "cell_type": "code",
   "execution_count": 57,
   "metadata": {},
   "outputs": [
    {
     "name": "stdout",
     "output_type": "stream",
     "text": [
      "thequickbrownfxjmpdvlazygs\n",
      "Type your message here, then press enter: My teacher is a beautiful genius\n"
     ]
    },
    {
     "ename": "KeyError",
     "evalue": "'M'",
     "output_type": "error",
     "traceback": [
      "\u001b[0;31m---------------------------------------------------------------------------\u001b[0m",
      "\u001b[0;31mKeyError\u001b[0m                                  Traceback (most recent call last)",
      "\u001b[0;32m<ipython-input-57-74301b570588>\u001b[0m in \u001b[0;36m<module>\u001b[0;34m()\u001b[0m\n\u001b[1;32m     22\u001b[0m \u001b[0mcoded_message\u001b[0m \u001b[0;34m=\u001b[0m \u001b[0;34m\"\"\u001b[0m\u001b[0;34m\u001b[0m\u001b[0m\n\u001b[1;32m     23\u001b[0m \u001b[0;32mfor\u001b[0m \u001b[0mletter\u001b[0m \u001b[0;32min\u001b[0m \u001b[0muncoded_message\u001b[0m\u001b[0;34m:\u001b[0m\u001b[0;34m\u001b[0m\u001b[0m\n\u001b[0;32m---> 24\u001b[0;31m     \u001b[0mcoded_message\u001b[0m \u001b[0;34m=\u001b[0m \u001b[0mcoded_message\u001b[0m \u001b[0;34m+\u001b[0m \u001b[0mtable\u001b[0m\u001b[0;34m[\u001b[0m\u001b[0mletter\u001b[0m\u001b[0;34m]\u001b[0m\u001b[0;34m\u001b[0m\u001b[0m\n\u001b[0m\u001b[1;32m     25\u001b[0m \u001b[0mprint\u001b[0m \u001b[0;34m(\u001b[0m\u001b[0mcoded_message\u001b[0m\u001b[0;34m)\u001b[0m\u001b[0;34m\u001b[0m\u001b[0m\n",
      "\u001b[0;31mKeyError\u001b[0m: 'M'"
     ]
    }
   ],
   "source": [
    "#First, create our substitution table\n",
    "table = {}\n",
    "everyletter = \"abcdefghijklmnopqrstuvwxyz\"\n",
    "\n",
    "sentence = \"the quick brown fox jumped over the lazy dogs\"\n",
    "#Remove the duplicate letters \n",
    "passphrase=\"\"\n",
    "for letter in sentence:\n",
    "    if letter not in passphrase and letter is not ' ':\n",
    "        passphrase = passphrase + letter\n",
    "print (passphrase)\n",
    "\n",
    "#Build the table\n",
    "for num in range(26):\n",
    "    table[ everyletter[num]] = sentence[num]\n",
    "table[' '] = ' '\n",
    "\n",
    "#Get a message from the user\n",
    "uncoded_message = input(\"Type your message here, then press enter: \")\n",
    "\n",
    "#Encode and print the message\n",
    "coded_message = \"\"\n",
    "for letter in uncoded_message:\n",
    "    coded_message = coded_message + table[letter]\n",
    "print (coded_message)"
   ]
  },
  {
   "cell_type": "markdown",
   "metadata": {},
   "source": [
    "Ouch! Errors again. Unfortunately, lots of computer programming is finding problems (\"bugs\") in your code. Try to solve the problem above. It might help to add some \"print\" statements.\n",
    "\n",
    "If you couldn't find the problem above (which is OK. It's a hard bug to see), I'll tell you that we've gone to the trouble of creating a \"passphrase\" with no spaces or duplicates, but then we still used \"sentence\" to create our table. In place of the line\n",
    "\n",
    "    table[ everyletter[num]] = sentence[num]\n",
    "\n",
    "write\n",
    "\n",
    "    table[ everyletter[num]] = passphrase[num]\n",
    "\n",
    "See if you get better answers."
   ]
  },
  {
   "cell_type": "markdown",
   "metadata": {},
   "source": [
    "### Decoding"
   ]
  },
  {
   "cell_type": "markdown",
   "metadata": {},
   "source": [
    "At last, we're ready to do some decoding. Suppose your friend encoded a message with the program above and sent it to you. The message you got was \"nuuv nu bf vku jtpo tv dby vkbpvg\". How would you decode it?\n",
    "\n",
    "Well, if we can build the same table, we can use it in reverse. In our new table m's become n's during encoding. So, during decoding, I change all the n's back to m's. All the e's became u's so I change all u's back to e's. The t's were changed to v's, so I change them back to t's and so on. Already I know that the first two words of the message are \"meet me\". Here's the full table so you can decode the rest of the message. Once you're done, we'll see how to do get Python to do it."
   ]
  },
  {
   "cell_type": "markdown",
   "metadata": {},
   "source": [
    "<html><table>\n",
    "<tr><td>Old letter<br></td><td>New letter<br></td><td><br></td><td>Old letter<br></td><td>New letter</td>\n",
    "<tr><td>A</td><td>T</td><td></td><td>N</td><td>F</td>\n",
    "<tr><td>B</td><td>H</td><td></td><td>O</td><td>X</td>\n",
    "<tr><td>C</td><td>E</td><td></td><td>P</td><td>J</td>\n",
    "<tr><td>D</td><td>Q</td><td></td><td>Q</td><td>M</td>\n",
    "<tr><td>E</td><td>U</td><td></td><td>R</td><td>P</td>\n",
    "<tr><td>F</td><td>I</td><td></td><td>S</td><td>D</td>\n",
    "<tr><td>G</td><td>C</td><td></td><td>T</td><td>V</td>\n",
    "<tr><td>H</td><td>K</td><td></td><td>U</td><td>L</td>\n",
    "<tr><td>I</td><td>B</td><td></td><td>V</td><td>A</td>\n",
    "<tr><td>J</td><td>R</td><td></td><td>W</td><td>Z</td>\n",
    "<tr><td>K</td><td>O</td><td></td><td>X</td><td>Y</td>\n",
    "<tr><td>L</td><td>W</td><td></td><td>Y</td><td>G</td>\n",
    "<tr><td>M</td><td>N</td><td></td><td>Z</td><td>S</td>\n",
    "</table></html>"
   ]
  },
  {
   "cell_type": "markdown",
   "metadata": {},
   "source": [
    "The hardest part of decoding was having to search through the \"New letter\" column for each letter. Other than that, it was exactly like encoding except that we're finding letters in the \"New letter\" column, then replacing them with the letter in the \"Old letter\" column. So, we can use python to decode by just switching the columns. In the language of Python dictionaries, we need to switch the \"keys\" and \"values.\" So, instead of building our table like this\n",
    "\n",
    "    for num in range(26):\n",
    "        table[ everyletter[num]] = passphrase[num]\n",
    "\n",
    "we swap \"everyletter\" and \"passphrase\"\n",
    "\n",
    "    for num in range(26):\n",
    "        table[ passphrase[num]] = everyletter[num]\n",
    "  \n",
    "It's just that easy and we've got a decoder. Make the change yourself here and check it with the message above (\"nuuv nu bf vku jtpo tv dby vkbpvg\"). What's the decoded message?"
   ]
  },
  {
   "cell_type": "code",
   "execution_count": 63,
   "metadata": {},
   "outputs": [
    {
     "name": "stdout",
     "output_type": "stream",
     "text": [
      "thequickbrownfxjmpdvlazygs\n",
      "Type your message here, then press enter: nuuv nu bf vku jtpo tv dby vkbpvg\n",
      "flla fl hi aol rvjx va qhg aohjac\n"
     ]
    }
   ],
   "source": [
    "#First, create our substitution table\n",
    "table = {}\n",
    "everyletter = \"abcdefghijklmnopqrstuvwxyz\"\n",
    "\n",
    "sentence = \"the quick brown fox jumped over the lazy dogs\"\n",
    "#Remove duplicate letters\n",
    "passphrase=\"\"\n",
    "for letter in sentence:\n",
    "    if letter not in passphrase and letter is not ' ':\n",
    "        passphrase = passphrase + letter\n",
    "print (passphrase)\n",
    "\n",
    "#Build the table\n",
    "for num in range(26):\n",
    "    table[ everyletter[num]] = passphrase[num]\n",
    "table[' '] = ' '\n",
    "\n",
    "#Get a message from the user\n",
    "uncoded_message = input(\"Type your message here, then press enter: \")\n",
    "\n",
    "#Encode and print the message\n",
    "coded_message = \"\"\n",
    "for letter in uncoded_message:\n",
    "    coded_message = coded_message + table[letter]\n",
    "print (coded_message)"
   ]
  },
  {
   "cell_type": "markdown",
   "metadata": {},
   "source": [
    "(Did you forget to switch \"everyletter\" and \"passphrase\"?)"
   ]
  },
  {
   "cell_type": "markdown",
   "metadata": {},
   "source": [
    "## Finishing up"
   ]
  },
  {
   "cell_type": "markdown",
   "metadata": {},
   "source": [
    "As our final task, we're going to give the user the option to encode or decode with the same script. Let's use \"input\" to ask the user whether she's encoding or decoding. If she's decoding, let's leave the table just like it is above. If she's encoding, let's rebuild the table like we did originally. Try it yourself on the code below. My answer is beneath that."
   ]
  },
  {
   "cell_type": "code",
   "execution_count": 67,
   "metadata": {},
   "outputs": [
    {
     "name": "stdout",
     "output_type": "stream",
     "text": [
      "thequickbrownfxjmpdvlazygs\n",
      "Type your message here, then press enter: nuuv nu bf vku jtpo tv dby vkbpvg\n",
      "meet me in the park at six thirty\n"
     ]
    }
   ],
   "source": [
    "#First, create our substitution table\n",
    "table = {}\n",
    "everyletter = \"abcdefghijklmnopqrstuvwxyz\"\n",
    "\n",
    "sentence = \"the quick brown fox jumped over the lazy dogs\"\n",
    "#Remove duplicate letters\n",
    "passphrase=\"\"\n",
    "for letter in sentence:\n",
    "    if letter not in passphrase and letter is not ' ':\n",
    "        passphrase = passphrase + letter\n",
    "print (passphrase)\n",
    "\n",
    "#Build the table\n",
    "for num in range(26):\n",
    "    table[ passphrase[num]] = everyletter[num]\n",
    "table[' '] = ' '\n",
    "\n",
    "#Get a message from the user\n",
    "uncoded_message = input(\"Type your message here, then press enter: \")\n",
    "\n",
    "#Encode and print the message\n",
    "coded_message = \"\"\n",
    "for letter in uncoded_message:\n",
    "    coded_message = coded_message + table[letter]\n",
    "print (coded_message)"
   ]
  },
  {
   "cell_type": "code",
   "execution_count": 69,
   "metadata": {},
   "outputs": [
    {
     "name": "stdout",
     "output_type": "stream",
     "text": [
      "thequickbrownfxjmpdvlazygs\n",
      "Are you encoding or decoding?decoding\n",
      "{'e': 'c', 'r': 'j', 'g': 'y', 'm': 'q', 'c': 'g', 'p': 'r', 'u': 'e', 't': 'a', 'o': 'k', 'q': 'd', 'l': 'u', 'a': 'v', 's': 'z', 'x': 'o', 'b': 'i', 'f': 'n', 'k': 'h', 'j': 'p', 'd': 's', 'h': 'b', 'n': 'm', ' ': ' ', 'v': 't', 'i': 'f', 'y': 'x', 'z': 'w', 'w': 'l'}\n",
      "Type your message here, then press enter: vkupu bd t hxxcup xf gxlp wbj\n",
      "there is a booger on your lip\n"
     ]
    }
   ],
   "source": [
    "#First, create our substitution table\n",
    "table = {}\n",
    "everyletter = \"abcdefghijklmnopqrstuvwxyz\"\n",
    "\n",
    "sentence = \"the quick brown fox jumped over the lazy dogs\"\n",
    "#Remove duplicates\n",
    "passphrase=\"\"\n",
    "for letter in sentence:\n",
    "    if letter not in passphrase and letter is not ' ':\n",
    "        passphrase = passphrase + letter\n",
    "print (passphrase)\n",
    "\n",
    "#Build a table for decoding\n",
    "for num in range(26):\n",
    "    table[ passphrase[num]] = everyletter[num]\n",
    "table[' '] = ' '\n",
    "\n",
    "#****  This is the new part. If we're encoding, we rebuild the table\n",
    "#         But we switch everyletter and passphrase\n",
    "task = input(\"Are you encoding or decoding?\")\n",
    "if task == \"encoding\":\n",
    "    #Build a table for encoding instead\n",
    "    print (\"Remaking table for encoding...\")\n",
    "    for num in range(26):\n",
    "        table[ everyletter[num]] = passphrase[num]\n",
    "        \n",
    "print (table)\n",
    "\n",
    "#Get a message from the user\n",
    "uncoded_message = input(\"Type your message here, then press enter: \")\n",
    "\n",
    "#Encode and print the message\n",
    "coded_message = \"\"\n",
    "for letter in uncoded_message:\n",
    "    coded_message = coded_message + table[letter]\n",
    "print (coded_message)"
   ]
  },
  {
   "cell_type": "markdown",
   "metadata": {},
   "source": [
    "So, we've got a working encoder/decoder. Try decoding the message we had before (\"nuuv nu bf vku jtpo tv dby vkbpvg\"). You can send secret messages to your friends. Whether or not they know Python, they can use this program to keep your messages secret. \n",
    "\n",
    "There's still lots left to do. Here are a few tasks for you to try.\n",
    "- Can you put some comments in the code so that others better understand what each part is doing?\n",
    "- Try putting a capital letter in your message. What happened? Try using google to figure out how to capitalize and uncapitalize your message. \n",
    "- You will also run into trouble if your message has punctuation like a period, comma, question mark or apostrophe. Can you solve that problem?\n",
    "- What if you replace \"thequickbrownfoxjumpedoverthelazydogs\" with your own passphrase? You're liable to run into trouble here for a few reasons. I chose that sentence because it contains every letter of the alphabet. Your passphrase is liable to miss a letter or two. What could you do to guarantee your table doesn't miss any letter even if they're missing from your passphrase?\n",
    "- Once you can handle different passphrases, why not take your passphrase from the user using input? This keeps others from reading your messages, but you and your friend have to have agreed on a passphrase ahead of time. Even if you haven't, you can use information that only the two of you know. For example, you could send them the encoded message, then tell them to use her dog's name plus your favorite singer as a passphrase."
   ]
  },
  {
   "cell_type": "markdown",
   "metadata": {},
   "source": [
    "With those few tools, you can do a lot with Python. But we've only scratched the surface of what Python can do. There are lots of lessons on sites like <a href=\"http://codecademy.com\" target=\"blank\">codecademy.com</a>, <a href=\"http://code.org/learn\" target=\"blank\">code.org</a> and <a href=\"https://www.khanacademy.org/computing/computer-programming/programming\" target=\"blank\">khanacademy.org</a> to teach you all kinds of things. Happy coding!"
   ]
  },
  {
   "cell_type": "markdown",
   "metadata": {},
   "source": [
    "<font color=\"gray\">Â© Copyright 2016 Levi Barnes www.levibarnes.com</font>"
   ]
  }
 ],
 "metadata": {
  "kernelspec": {
   "display_name": "Python 3",
   "language": "python",
   "name": "python3"
  },
  "language_info": {
   "codemirror_mode": {
    "name": "ipython",
    "version": 3
   },
   "file_extension": ".py",
   "mimetype": "text/x-python",
   "name": "python",
   "nbconvert_exporter": "python",
   "pygments_lexer": "ipython3",
   "version": "3.5.3"
  }
 },
 "nbformat": 4,
 "nbformat_minor": 1
}
